{
 "cells": [
  {
   "cell_type": "code",
   "execution_count": 1,
   "metadata": {},
   "outputs": [],
   "source": [
    "import pandas as pd\n",
    "import numpy as np\n",
    "from datetime import datetime\n",
    "from sklearn import preprocessing\n",
    "import matplotlib.pyplot as plt\n",
    "from matplotlib.pyplot import figure\n",
    "%matplotlib inline\n",
    "from sklearn.ensemble import RandomForestClassifier\n",
    "from sklearn.model_selection import train_test_split\n",
    "from sklearn.metrics import accuracy_score\n",
    "from sklearn.metrics import confusion_matrix\n",
    "import warnings\n",
    "warnings.filterwarnings('ignore')"
   ]
  },
  {
   "cell_type": "markdown",
   "metadata": {},
   "source": [
    "### Importing the Data"
   ]
  },
  {
   "cell_type": "code",
   "execution_count": 2,
   "metadata": {},
   "outputs": [],
   "source": [
    "data = pd.read_csv('ecenter15.csv',index_col=0)"
   ]
  },
  {
   "cell_type": "code",
   "execution_count": 3,
   "metadata": {},
   "outputs": [
    {
     "data": {
      "text/html": [
       "<div>\n",
       "<style scoped>\n",
       "    .dataframe tbody tr th:only-of-type {\n",
       "        vertical-align: middle;\n",
       "    }\n",
       "\n",
       "    .dataframe tbody tr th {\n",
       "        vertical-align: top;\n",
       "    }\n",
       "\n",
       "    .dataframe thead th {\n",
       "        text-align: right;\n",
       "    }\n",
       "</style>\n",
       "<table border=\"1\" class=\"dataframe\">\n",
       "  <thead>\n",
       "    <tr style=\"text-align: right;\">\n",
       "      <th></th>\n",
       "      <th>id</th>\n",
       "      <th>dt</th>\n",
       "      <th>event</th>\n",
       "      <th>se_category</th>\n",
       "      <th>se_action</th>\n",
       "      <th>se_property</th>\n",
       "      <th>se_value</th>\n",
       "      <th>page</th>\n",
       "    </tr>\n",
       "  </thead>\n",
       "  <tbody>\n",
       "    <tr>\n",
       "      <th>0</th>\n",
       "      <td>1a6c6ac6ade4d5b4</td>\n",
       "      <td>2019-05-19 19:31:05</td>\n",
       "      <td>page_view</td>\n",
       "      <td>NaN</td>\n",
       "      <td>NaN</td>\n",
       "      <td>NaN</td>\n",
       "      <td>NaN</td>\n",
       "      <td>/cat-mba/online-classes/</td>\n",
       "    </tr>\n",
       "    <tr>\n",
       "      <th>1</th>\n",
       "      <td>aafb519f9d47c70a</td>\n",
       "      <td>2019-05-19 19:31:07</td>\n",
       "      <td>page_view</td>\n",
       "      <td>NaN</td>\n",
       "      <td>NaN</td>\n",
       "      <td>NaN</td>\n",
       "      <td>NaN</td>\n",
       "      <td>/cl-online/ProductDesc.jsp</td>\n",
       "    </tr>\n",
       "    <tr>\n",
       "      <th>2</th>\n",
       "      <td>1a6c6ac6ade4d5b4</td>\n",
       "      <td>2019-05-19 19:31:05</td>\n",
       "      <td>struct</td>\n",
       "      <td>Leadgen</td>\n",
       "      <td>index</td>\n",
       "      <td>Not Set</td>\n",
       "      <td>0.0</td>\n",
       "      <td>/cat-mba/online-classes/</td>\n",
       "    </tr>\n",
       "    <tr>\n",
       "      <th>3</th>\n",
       "      <td>769fd41a41942405</td>\n",
       "      <td>2019-05-19 19:31:06</td>\n",
       "      <td>struct</td>\n",
       "      <td>Head_Icons</td>\n",
       "      <td>Click</td>\n",
       "      <td>1</td>\n",
       "      <td>NaN</td>\n",
       "      <td>/</td>\n",
       "    </tr>\n",
       "    <tr>\n",
       "      <th>4</th>\n",
       "      <td>e62ca977fc993ddc</td>\n",
       "      <td>2019-05-19 19:31:09</td>\n",
       "      <td>page_view</td>\n",
       "      <td>NaN</td>\n",
       "      <td>NaN</td>\n",
       "      <td>NaN</td>\n",
       "      <td>NaN</td>\n",
       "      <td>/ca-cs/cs/cs-course.html</td>\n",
       "    </tr>\n",
       "  </tbody>\n",
       "</table>\n",
       "</div>"
      ],
      "text/plain": [
       "                 id                   dt      event se_category se_action  \\\n",
       "0  1a6c6ac6ade4d5b4  2019-05-19 19:31:05  page_view         NaN       NaN   \n",
       "1  aafb519f9d47c70a  2019-05-19 19:31:07  page_view         NaN       NaN   \n",
       "2  1a6c6ac6ade4d5b4  2019-05-19 19:31:05     struct     Leadgen     index   \n",
       "3  769fd41a41942405  2019-05-19 19:31:06     struct  Head_Icons     Click   \n",
       "4  e62ca977fc993ddc  2019-05-19 19:31:09  page_view         NaN       NaN   \n",
       "\n",
       "  se_property  se_value                        page  \n",
       "0         NaN       NaN    /cat-mba/online-classes/  \n",
       "1         NaN       NaN  /cl-online/ProductDesc.jsp  \n",
       "2     Not Set       0.0    /cat-mba/online-classes/  \n",
       "3           1       NaN                           /  \n",
       "4         NaN       NaN    /ca-cs/cs/cs-course.html  "
      ]
     },
     "execution_count": 3,
     "metadata": {},
     "output_type": "execute_result"
    }
   ],
   "source": [
    "data.head()"
   ]
  },
  {
   "cell_type": "markdown",
   "metadata": {},
   "source": [
    "### Describing the Data\n",
    "We use { include='O' } to describe the object variables "
   ]
  },
  {
   "cell_type": "code",
   "execution_count": 4,
   "metadata": {
    "scrolled": true
   },
   "outputs": [
    {
     "data": {
      "text/html": [
       "<div>\n",
       "<style scoped>\n",
       "    .dataframe tbody tr th:only-of-type {\n",
       "        vertical-align: middle;\n",
       "    }\n",
       "\n",
       "    .dataframe tbody tr th {\n",
       "        vertical-align: top;\n",
       "    }\n",
       "\n",
       "    .dataframe thead th {\n",
       "        text-align: right;\n",
       "    }\n",
       "</style>\n",
       "<table border=\"1\" class=\"dataframe\">\n",
       "  <thead>\n",
       "    <tr style=\"text-align: right;\">\n",
       "      <th></th>\n",
       "      <th>id</th>\n",
       "      <th>dt</th>\n",
       "      <th>event</th>\n",
       "      <th>se_category</th>\n",
       "      <th>se_action</th>\n",
       "      <th>se_property</th>\n",
       "      <th>page</th>\n",
       "    </tr>\n",
       "  </thead>\n",
       "  <tbody>\n",
       "    <tr>\n",
       "      <th>count</th>\n",
       "      <td>298633</td>\n",
       "      <td>298633</td>\n",
       "      <td>298633</td>\n",
       "      <td>179311</td>\n",
       "      <td>170257</td>\n",
       "      <td>130862</td>\n",
       "      <td>298633</td>\n",
       "    </tr>\n",
       "    <tr>\n",
       "      <th>unique</th>\n",
       "      <td>7007</td>\n",
       "      <td>183923</td>\n",
       "      <td>2</td>\n",
       "      <td>18</td>\n",
       "      <td>113</td>\n",
       "      <td>3084</td>\n",
       "      <td>2098</td>\n",
       "    </tr>\n",
       "    <tr>\n",
       "      <th>top</th>\n",
       "      <td>ffd8a99a043a8efd</td>\n",
       "      <td>2019-05-31 12:48:22</td>\n",
       "      <td>struct</td>\n",
       "      <td>Purchase</td>\n",
       "      <td>Init</td>\n",
       "      <td>MBA</td>\n",
       "      <td>/cl-online/ProductDesc.jsp</td>\n",
       "    </tr>\n",
       "    <tr>\n",
       "      <th>freq</th>\n",
       "      <td>3397</td>\n",
       "      <td>14</td>\n",
       "      <td>179311</td>\n",
       "      <td>65291</td>\n",
       "      <td>33508</td>\n",
       "      <td>22760</td>\n",
       "      <td>97616</td>\n",
       "    </tr>\n",
       "  </tbody>\n",
       "</table>\n",
       "</div>"
      ],
      "text/plain": [
       "                      id                   dt   event se_category se_action  \\\n",
       "count             298633               298633  298633      179311    170257   \n",
       "unique              7007               183923       2          18       113   \n",
       "top     ffd8a99a043a8efd  2019-05-31 12:48:22  struct    Purchase      Init   \n",
       "freq                3397                   14  179311       65291     33508   \n",
       "\n",
       "       se_property                        page  \n",
       "count       130862                      298633  \n",
       "unique        3084                        2098  \n",
       "top            MBA  /cl-online/ProductDesc.jsp  \n",
       "freq         22760                       97616  "
      ]
     },
     "execution_count": 4,
     "metadata": {},
     "output_type": "execute_result"
    }
   ],
   "source": [
    "data.describe(include='O')"
   ]
  },
  {
   "cell_type": "markdown",
   "metadata": {},
   "source": [
    "### Exploring the Unique values in all columns"
   ]
  },
  {
   "cell_type": "code",
   "execution_count": 5,
   "metadata": {},
   "outputs": [
    {
     "data": {
      "text/plain": [
       "array(['page_view', 'struct'], dtype=object)"
      ]
     },
     "execution_count": 5,
     "metadata": {},
     "output_type": "execute_result"
    }
   ],
   "source": [
    "data.event.unique()"
   ]
  },
  {
   "cell_type": "code",
   "execution_count": 6,
   "metadata": {},
   "outputs": [
    {
     "data": {
      "text/plain": [
       "array([nan, 'Leadgen', 'Head_Icons', 'Purchase', 'Form Submit',\n",
       "       'Dimensions', 'TrackVisit', 'ajaxSignIn', 'Nudge', 'Banner',\n",
       "       'Lead Submit', 'ajaxSignUp', 'All_Programs', 'Debug', 'Chatbot',\n",
       "       'Connect', 'LeadHooks', 'Notifications', 'SISLogin'], dtype=object)"
      ]
     },
     "execution_count": 6,
     "metadata": {},
     "output_type": "execute_result"
    }
   ],
   "source": [
    "data.se_category.unique()"
   ]
  },
  {
   "cell_type": "code",
   "execution_count": 7,
   "metadata": {},
   "outputs": [
    {
     "data": {
      "text/plain": [
       "array([nan, 'index', 'Click', 'Product Detail', 'Signup', 'Category Page',\n",
       "       'Signin', 'LST', 'Init', 'na', '1632', 'MBA', 'Add to Cart',\n",
       "       'Show', 'Success', 'Purchase', '1626', '1628', 'FREE ZONE',\n",
       "       'Type Page', 'CBSE', 'Submited', 'CAT Repeater', 'BANKING',\n",
       "       '1632 - Disabled', 'Revised CAT-MBA explorer landing',\n",
       "       'Civils test series', 'SSC', 'AFTER-12', 'GRE', 'localStorage',\n",
       "       'RBI', 'PSU', 'Submitted', 'CIVIL_SERVICE', 'GMAT',\n",
       "       'SSC TS homepage', 'BANKING TS', 'IPM Books & Material', 'MEDICAL',\n",
       "       'IPM Online Coaching', 'ENGG', 'CLASS-10', 'ETEN IAS', 'FMAP',\n",
       "       'OTHER', 'New Free User Registration', '1628 - Disabled',\n",
       "       'DATA ANALYTICS', 'CS', 'GMAT_Webinar_20_May', 'IIM Profilizer',\n",
       "       'FinSchool', 'SIGNUP', 'FORMS', 'CA CS - CA Foundation',\n",
       "       'Medical Beginners Guide', 'CAT Citywise campaign', 'IPM',\n",
       "       'DataSchool', 'Live-Classes-JEE-2021', 'SKILLS', 'CAT', 'COURSES',\n",
       "       '1626 - Disabled', 'Olympiad-signup', 'DU JAT preparation', 'CRT',\n",
       "       'UPSC - GS Foundation - Webinar', 'CBSE - Maths - Class 12',\n",
       "       'Submit', 'SAT', 'Free Trial Registration', 'AFTER-12 OC',\n",
       "       'IPM - PDP', 'AFTER-12 BM',\n",
       "       'RBI Grade B - Economic & Social Issues', 'CL CA CPT - Testseries',\n",
       "       'Railway Recruitment Board - RRB JE - OC',\n",
       "       'gmat_classroom_landing_page', 'CBSE - Maths - Class 10',\n",
       "       'Live-Classes-NEET-2021', 'IELTS', 'CLASS-12',\n",
       "       'After12- Test series', 'CA', 'JOBS', 'E-TUTORING',\n",
       "       'Autogram interview pack', 'DATA', 'RBI Grade B Homepage',\n",
       "       'PG_ENGG', 'CBSE_aptitude_tests', 'ERR',\n",
       "       'RBI Grade B Notification', 'E-Books', '5045', '5046',\n",
       "       '1632 Not Show', '1626 Not Show', '5564', 'TUITIONS',\n",
       "       '5564 Not Show', '1628 Not Show', '5045 Not Show',\n",
       "       'CA-CS - CA - Intermediate - Classroom', 'neet2020_strategy',\n",
       "       '5046 Not Show', 'Admission - Consulting', 'IPM Webinar 010619',\n",
       "       'UPSC - GS Integrated', '5563', '5562', 'TOEFL'], dtype=object)"
      ]
     },
     "execution_count": 7,
     "metadata": {},
     "output_type": "execute_result"
    }
   ],
   "source": [
    "data.se_action.unique()"
   ]
  },
  {
   "cell_type": "code",
   "execution_count": 8,
   "metadata": {
    "scrolled": true
   },
   "outputs": [
    {
     "data": {
      "text/plain": [
       "array([nan, 'Not Set', '1', ..., 'sushmitadas827@gmail.com',\n",
       "       'pradeepsomvanshi838@gmail.com', 'allurisuresh49@gmail.com'],\n",
       "      dtype=object)"
      ]
     },
     "execution_count": 8,
     "metadata": {},
     "output_type": "execute_result"
    }
   ],
   "source": [
    "data.se_property.unique()"
   ]
  },
  {
   "cell_type": "code",
   "execution_count": 9,
   "metadata": {},
   "outputs": [
    {
     "data": {
      "text/plain": [
       "array(['Product Detail', 'Init', 'Add to Cart', 'Success'], dtype=object)"
      ]
     },
     "execution_count": 9,
     "metadata": {},
     "output_type": "execute_result"
    }
   ],
   "source": [
    "data[data['se_category']=='Purchase'].se_action.unique()"
   ]
  },
  {
   "cell_type": "markdown",
   "metadata": {},
   "source": [
    "### Cleaning the Data"
   ]
  },
  {
   "cell_type": "markdown",
   "metadata": {},
   "source": [
    "We need to fetch the Courses names from se_property columns. To do so, we remove the all the email-ids in this column.\n",
    "\n",
    "So, we remove all the values with '@' in them from se_property and fetch unique categories."
   ]
  },
  {
   "cell_type": "code",
   "execution_count": 10,
   "metadata": {},
   "outputs": [],
   "source": [
    "prop = data['se_property'].copy()\n",
    "prop.dropna(inplace=True)\n",
    "\n",
    "category = []\n",
    "for item in prop:\n",
    "    if '@' not in item:\n",
    "        category.append(item)\n",
    "\n",
    "category = np.array(category)\n",
    "category = np.unique(category)"
   ]
  },
  {
   "cell_type": "code",
   "execution_count": 11,
   "metadata": {
    "scrolled": true
   },
   "outputs": [
    {
     "data": {
      "text/plain": [
       "array([' PG Engg ', ' SSC', '/cat-mba/', '/cl-online/ProductDesc.jsp',\n",
       "       '1', '10225875', '11395000', '11395138', '11395812', '11396037',\n",
       "       '1632', '2', '2320', '2442', '2567', '2594', '2616', '3', '4',\n",
       "       '4163', '4182', '4183', '5', '6', '670', '6981', '7',\n",
       "       '70021016005', '706', '8', '9005030113', '9816285503',\n",
       "       'ADREETA GUHA ', 'AFTER-12', 'ASD', 'Aakash', 'Anjalilakhotia',\n",
       "       'Ashwathmanickam', 'BANKING', 'BOOKS', 'Banking', 'Bantisangwan',\n",
       "       'CA', 'CIVIL_SERVICE', 'CLASS-10', 'CLASS-11', 'CLASS-12',\n",
       "       'CLASS-8', 'CLASS-9', 'CORRESPONDENCE', 'CR', 'CRT', 'CS',\n",
       "       'DATA ANALYTICS', 'E-LEARNING', 'ENGG', 'FMAP', 'FORMS', 'Failure',\n",
       "       'FinSchool', 'FinSchool - 1', 'GATE', 'GKP', 'GMAT', 'GRE', 'HOME',\n",
       "       'IELTS', 'INSTITUTIONAL', 'IPSITA_AUTHENTIC', 'JOBS',\n",
       "       'Krishna Lohia', 'Kumarir', 'LEAD_GEN', 'LST', 'LST4#',\n",
       "       'Loharausmanabad', 'M-APP', 'MBA', 'MBA-CUST-CR-2',\n",
       "       'MBA-CUST-TS-2', 'MBA-CUST-TS-4', 'MBA-CUST-TS-5', 'MBA-CUST-TS-6',\n",
       "       'MBA-EXPLORER-TS-2', 'MBA-EXPLORER-TS-4', 'MBA-Explorer-1',\n",
       "       'MBA-Explorer-2', 'MBA-Explorer-4', 'MBA-Explorer-CR-1',\n",
       "       'MBA-Explorer-CR-2', 'MBA-Explorer-CR-3', 'MEDICAL',\n",
       "       'Moneyfinancialplanner.com', 'NA - 1', 'NA - 12', 'NA - 13',\n",
       "       'NA - 14', 'NA-1', 'NA-10', 'NA-11', 'NA-12', 'NA-2', 'NA-3',\n",
       "       'NA-5', 'NA-6', 'NA-7', 'NA-8', 'NO', 'Nancy bounded gmail.com',\n",
       "       'Nehagoswami88314', 'Not Set', 'OTHER', 'PDP', 'PG_ENGG', 'PSU',\n",
       "       'Pundlik kulkarni', 'RBI', 'Rida', 'Rida khan', 'SAT', 'SSC',\n",
       "       'Sree raga', 'Success', 'TESTGYM', 'TOEFL', 'TS', 'TauqeerA',\n",
       "       'Vk4562440', 'Yashgandhi1111', 'akhrejzamal11223344', 'clbank2016',\n",
       "       'clssc2016', 'gau', 'gautam.bawa', 'hardeepbhai  j khavad ', 'ku',\n",
       "       'nandinisoora', 'nehankskumari', 'pavanbaghel086', 'prati6611',\n",
       "       'rajesh', 'rkp10800714082', 'sakshi mittal', 'sdfsd',\n",
       "       'shivaansh harit', 'sourabh.rdsharma', 'swayamdeep Rout',\n",
       "       'tanya9858mahajan', 'undefined', 'vamikaaggarwal', 'vatsal1712',\n",
       "       'zainab.g'], dtype='<U26')"
      ]
     },
     "execution_count": 11,
     "metadata": {},
     "output_type": "execute_result"
    }
   ],
   "source": [
    "category"
   ]
  },
  {
   "cell_type": "markdown",
   "metadata": {},
   "source": [
    "Here we count the total number of unique ids that exist in our data(whether a customer or not)."
   ]
  },
  {
   "cell_type": "code",
   "execution_count": 12,
   "metadata": {},
   "outputs": [],
   "source": [
    "unique_ids = data['id']\n",
    "unique_ids = np.array(unique_ids)\n",
    "unique_ids = np.unique(unique_ids)"
   ]
  },
  {
   "cell_type": "code",
   "execution_count": 13,
   "metadata": {},
   "outputs": [
    {
     "data": {
      "text/plain": [
       "(7007,)"
      ]
     },
     "execution_count": 13,
     "metadata": {},
     "output_type": "execute_result"
    }
   ],
   "source": [
    "unique_ids.shape"
   ]
  },
  {
   "cell_type": "markdown",
   "metadata": {},
   "source": [
    "Now, we speculate that cookie-ids with multiple registered email-ids are possible cyber cafes or library computers. So, we need to remove such ids from our data as they would hamper the working of our model.\n",
    "\n",
    "Now, we count the number of email ids registered per each unique id."
   ]
  },
  {
   "cell_type": "code",
   "execution_count": 14,
   "metadata": {},
   "outputs": [],
   "source": [
    "emails_per_id = dict((k,set()) for k in unique_ids)\n",
    "for index,row in data.iterrows():\n",
    "    if '@' in str(row[5]):\n",
    "        emails_per_id[row[0]].add(row[5])"
   ]
  },
  {
   "cell_type": "code",
   "execution_count": 15,
   "metadata": {},
   "outputs": [],
   "source": [
    "new_dict = dict((k,int) for k in unique_ids)\n",
    "for key,value in emails_per_id.items():\n",
    "    if isinstance(value,set):\n",
    "        new_dict[key] = len(value)"
   ]
  },
  {
   "cell_type": "markdown",
   "metadata": {},
   "source": [
    "Printing the ids with the number the of unique registered email-ids with them."
   ]
  },
  {
   "cell_type": "code",
   "execution_count": 16,
   "metadata": {},
   "outputs": [
    {
     "data": {
      "text/plain": [
       "[('22198238dd63b042', 27),\n",
       " ('81b0aefa7fcd07c8', 16),\n",
       " ('d10d12eb74b2094a', 14),\n",
       " ('1ead11c9bed82400', 11),\n",
       " ('74997a7f5f22904b', 11),\n",
       " ('ffd8a99a043a8efd', 11),\n",
       " ('198ca6723b47e0d0', 9),\n",
       " ('2b6235d74de5d459', 7),\n",
       " ('7041c69a60a90f1a', 7),\n",
       " ('288470d05fc9d054', 6),\n",
       " ('3ca3fbbc111d93b1', 6),\n",
       " ('8778cde4d652d0ae', 6),\n",
       " ('9917beae4d154d31', 6),\n",
       " ('6c28af038b1dfe3d', 5),\n",
       " ('73b2d2621f835003', 5),\n",
       " ('9a0c3dbf9b0d2c7c', 5),\n",
       " ('9d43a6833344e065', 5),\n",
       " ('a9fd043388635ee3', 5),\n",
       " ('cce22fff0e20a29f', 5),\n",
       " ('e65149377d29c99d', 5)]"
      ]
     },
     "execution_count": 16,
     "metadata": {},
     "output_type": "execute_result"
    }
   ],
   "source": [
    "sorted(new_dict.items(), key=lambda x: x[1], reverse=True)[:20]"
   ]
  },
  {
   "cell_type": "markdown",
   "metadata": {},
   "source": [
    "Now we count the number of purchase ids that exist when we set a limit to the maximum number of email-ids a cookie id can be registered with."
   ]
  },
  {
   "cell_type": "code",
   "execution_count": 17,
   "metadata": {},
   "outputs": [
    {
     "name": "stdout",
     "output_type": "stream",
     "text": [
      "For a limit of maximum 9  registered email-ids per cookie id, we have  683  unique success cookie ids.\n",
      "For a limit of maximum 8  registered email-ids per cookie id, we have  683  unique success cookie ids.\n",
      "For a limit of maximum 7  registered email-ids per cookie id, we have  683  unique success cookie ids.\n",
      "For a limit of maximum 6  registered email-ids per cookie id, we have  683  unique success cookie ids.\n",
      "For a limit of maximum 5  registered email-ids per cookie id, we have  682  unique success cookie ids.\n",
      "For a limit of maximum 4  registered email-ids per cookie id, we have  682  unique success cookie ids.\n",
      "For a limit of maximum 3  registered email-ids per cookie id, we have  680  unique success cookie ids.\n",
      "For a limit of maximum 2  registered email-ids per cookie id, we have  667  unique success cookie ids.\n",
      "For a limit of maximum 1  registered email-ids per cookie id, we have  589  unique success cookie ids.\n"
     ]
    }
   ],
   "source": [
    "max_ids = [9,8,7,6,5,4,3,2,1]\n",
    "for i in max_ids:\n",
    "    new_list = []\n",
    "    for key,value in new_dict.items():\n",
    "        if value<=i:\n",
    "            new_list.append(key)\n",
    "    new_data = data[data['id'].isin(new_list)]\n",
    "    success_data = new_data[(data['se_category']=='Purchase')&(data['se_action']=='Success')]\n",
    "    success_ids = success_data['id'].unique()\n",
    "    success_ids = success_ids.tolist()\n",
    "    print('For a limit of maximum',i,' registered email-ids per cookie id, we have ',len(success_ids),' unique success cookie ids.')"
   ]
  },
  {
   "cell_type": "markdown",
   "metadata": {},
   "source": [
    "Selecting the max number of email ids permissible per user id\n",
    "\n",
    "Since we see a drastic fall in number of success ids for n<=2 and n<=1.\n",
    "So we settle for n<=3 as our limit, without losing any generality."
   ]
  },
  {
   "cell_type": "code",
   "execution_count": 18,
   "metadata": {},
   "outputs": [
    {
     "name": "stdout",
     "output_type": "stream",
     "text": [
      "680\n"
     ]
    }
   ],
   "source": [
    "new_list = []\n",
    "for key,value in new_dict.items():\n",
    "    if value<=3:\n",
    "        new_list.append(key)\n",
    "new_data = data[data['id'].isin(new_list)]\n",
    "success_data = new_data[(data['se_category']=='Purchase')&(data['se_action']=='Success')]\n",
    "success_ids = success_data['id'].unique()\n",
    "success_ids = success_ids.tolist()\n",
    "print(len(success_ids))"
   ]
  },
  {
   "cell_type": "markdown",
   "metadata": {},
   "source": [
    "Now, we need to reduce the noise in data by removing ids with few instances.\n",
    "For this we must come up with a cut-off value for the least number of instances that an id must have to be a part of the training data."
   ]
  },
  {
   "cell_type": "code",
   "execution_count": 19,
   "metadata": {},
   "outputs": [
    {
     "name": "stdout",
     "output_type": "stream",
     "text": [
      "For a cut-off of 4 instances per unique id, we have 0 success ids to be removed.\n",
      "For a cut-off of 5 instances per unique id, we have 0 success ids to be removed.\n",
      "For a cut-off of 6 instances per unique id, we have 2 success ids to be removed.\n",
      "For a cut-off of 7 instances per unique id, we have 2 success ids to be removed.\n",
      "For a cut-off of 8 instances per unique id, we have 2 success ids to be removed.\n",
      "For a cut-off of 9 instances per unique id, we have 2 success ids to be removed.\n",
      "For a cut-off of 10 instances per unique id, we have 2 success ids to be removed.\n",
      "For a cut-off of 11 instances per unique id, we have 2 success ids to be removed.\n",
      "For a cut-off of 12 instances per unique id, we have 3 success ids to be removed.\n",
      "For a cut-off of 13 instances per unique id, we have 3 success ids to be removed.\n",
      "For a cut-off of 14 instances per unique id, we have 5 success ids to be removed.\n"
     ]
    }
   ],
   "source": [
    "min_ids =  dict(data['id'].value_counts())\n",
    "\n",
    "min_list = []\n",
    "cutoff_vals = [4,5,6,7,8,9,10,11,12,13,14]\n",
    "for i in cutoff_vals:\n",
    "    for key,value in min_ids.items():\n",
    "        if value<=i:\n",
    "            min_list.append(key)\n",
    "    temp_data = pd.DataFrame({'id':success_ids})\n",
    "    temp_data['rows'] = temp_data['id'].map(min_ids)\n",
    "    print('For a cut-off of',i,'instances per unique id, we have',temp_data[temp_data['rows']<=i].shape[0],'success ids to be removed.')"
   ]
  },
  {
   "cell_type": "markdown",
   "metadata": {},
   "source": [
    "Since only 2 unique ids exist with instances less than equal to 6 and made a purchase, so we consider only those ids who have aleast 6 instances in the data."
   ]
  },
  {
   "cell_type": "code",
   "execution_count": 20,
   "metadata": {},
   "outputs": [],
   "source": [
    "min_list = []\n",
    "for key,value in min_ids.items():\n",
    "    if value>=6:\n",
    "        min_list.append(key)"
   ]
  },
  {
   "cell_type": "code",
   "execution_count": 67,
   "metadata": {},
   "outputs": [],
   "source": [
    "## Importing the data again and cleaning it based on previous gained insights.\n",
    "data = pd.read_csv('ecenter15.csv',index_col=0)\n",
    "new_data = data[data['id'].isin(new_list)]\n",
    "new_data = new_data[new_data['id'].isin(min_list)]"
   ]
  },
  {
   "cell_type": "code",
   "execution_count": 68,
   "metadata": {},
   "outputs": [],
   "source": [
    "cust_data = new_data[new_data['id'].isin(success_ids)].copy()\n",
    "cust_data.sort_values(['id','dt'], ascending=[True, True], inplace=True)"
   ]
  },
  {
   "cell_type": "markdown",
   "metadata": {},
   "source": [
    "Extracting dates out of the date-time format and creating a new column for the purchases.\n",
    "\n",
    "The given timestamps are in the format 'Y-m-d H:M:S'. But for our model, we would be needing only the date of visit. So we will just keep the date part of timestamp in 'dt' variable.\n",
    "\n",
    "In the given data, a successful purchase is captured by the instances where 'se_category'=='Purchase' and 'se_action'=='Success'. So we will create a new variable 'id2' and mark all the instances with a successful purchase."
   ]
  },
  {
   "cell_type": "code",
   "execution_count": 69,
   "metadata": {},
   "outputs": [],
   "source": [
    "cust_data['dt'] = cust_data['dt'].apply(lambda x: datetime.strptime(x,\"%Y-%m-%d %H:%M:%S\"))\n",
    "cust_data['dt'] = cust_data['dt'].dt.date\n",
    "cust_data['id2']=0\n",
    "cust_data.loc[(cust_data['se_category']=='Purchase')&(cust_data['se_action']=='Success'),'id2'] = 1"
   ]
  },
  {
   "cell_type": "markdown",
   "metadata": {},
   "source": [
    "Cleaning the columns and grouping multiple categories together\n",
    "\n",
    "The unique categories in 'se_property' still have lots of dirty values, even after removing all the email-ids. So, we create a list of categories from the previous list by manual inspection."
   ]
  },
  {
   "cell_type": "code",
   "execution_count": 70,
   "metadata": {},
   "outputs": [],
   "source": [
    "Course_specific = ['1632', 'MBA','1626', '1628', 'FREE ZONE', 'CBSE', 'CAT Repeater', 'BANKING',\n",
    "       '1632 - Disabled', 'Revised CAT-MBA explorer landing',\n",
    "       'Civils test series', 'SSC', 'AFTER-12', 'GRE',\n",
    "       'RBI', 'PSU', 'CIVIL_SERVICE', 'GMAT',\n",
    "       'SSC TS homepage', 'BANKING TS', 'IPM Books & Material', 'MEDICAL',\n",
    "       'IPM Online Coaching', 'ENGG', 'CLASS-10', 'ETEN IAS', 'FMAP',\n",
    "       'OTHER', '1628 - Disabled',\n",
    "       'DATA ANALYTICS', 'CS', 'GMAT_Webinar_20_May', 'IIM Profilizer',\n",
    "       'FinSchool', 'CA CS - CA Foundation',\n",
    "       'Medical Beginners Guide', 'CAT Citywise campaign', 'IPM',\n",
    "       'DataSchool', 'Live-Classes-JEE-2021', 'SKILLS', 'CAT', 'COURSES',\n",
    "       '1626 - Disabled', 'Olympiad-signup', 'DU JAT preparation', 'CRT',\n",
    "       'UPSC - GS Foundation - Webinar', 'CBSE - Maths - Class 12','SAT', 'AFTER-12 OC',\n",
    "       'IPM - PDP', 'AFTER-12 BM',\n",
    "       'RBI Grade B - Economic & Social Issues', 'CL CA CPT - Testseries',\n",
    "       'Railway Recruitment Board - RRB JE - OC',\n",
    "       'gmat_classroom_landing_page', 'CBSE - Maths - Class 10',\n",
    "       'Live-Classes-NEET-2021', 'IELTS', 'CLASS-12',\n",
    "       'After12- Test series', 'CA', 'JOBS', 'E-TUTORING',\n",
    "       'Autogram interview pack', 'DATA', 'RBI Grade B Homepage',\n",
    "       'PG_ENGG', 'CBSE_aptitude_tests',\n",
    "       'RBI Grade B Notification', 'E-Books', '5045', '5046',\n",
    "       '1632 Not Show', '1626 Not Show', '5564', 'TUITIONS',\n",
    "       '5564 Not Show', '1628 Not Show', '5045 Not Show',\n",
    "       'CA-CS - CA - Intermediate - Classroom', 'neet2020_strategy',\n",
    "       '5046 Not Show', 'Admission - Consulting', 'IPM Webinar 010619',\n",
    "       'UPSC - GS Integrated', '5563', '5562', 'TOEFL']"
   ]
  },
  {
   "cell_type": "code",
   "execution_count": 71,
   "metadata": {},
   "outputs": [],
   "source": [
    "data_2 = cust_data.copy()"
   ]
  },
  {
   "cell_type": "markdown",
   "metadata": {},
   "source": [
    "Now we replace the categorical values from each column with an appropriate category name.\n",
    "\n",
    "* The 'na' values are replaced by a 0,\n",
    "* The list of course specific categories are labelled as one,\n",
    "* Label the variations of 'Submit' and 'Signup' categories as one.\n",
    "* The categories which wont be needed in our model are labelled as 'Other'."
   ]
  },
  {
   "cell_type": "code",
   "execution_count": 72,
   "metadata": {},
   "outputs": [],
   "source": [
    "data_2 = data_2.fillna(0)\n",
    "data_2['se_action'] = data_2['se_action'].replace('na',0)\n",
    "data_2['se_action'] = data_2['se_action'].replace(Course_specific,'Course_specific')\n",
    "data_2['se_action'] = data_2['se_action'].replace(['index','Type Page','localStorage','ERR'],'Other')\n",
    "data_2['se_action'] = data_2['se_action'].replace(['Submitted','Submited'],'Submit')\n",
    "data_2['se_action'] = data_2['se_action'].replace('SIGNUP','Signup')\n",
    "data_2['se_category'] = data_2['se_category'].replace(['Head_Icons', 'Form Submit',\n",
    "       'Dimensions', 'ajaxSignIn', 'Banner', 'Nudge', 'TrackVisit',\n",
    "       'ajaxSignUp', 'All_Programs', 'Debug', 'Chatbot',\n",
    "       'Connect', 'LeadHooks', 'Notifications', 'SISLogin'],'Other')\n",
    "data_2['event'] = data_2['event'].replace('page_view',1)\n",
    "data_2['event'] = data_2['event'].replace('struct',0)"
   ]
  },
  {
   "cell_type": "markdown",
   "metadata": {},
   "source": [
    "Now we one-hot encode the required categorical variables and drop the previous columns."
   ]
  },
  {
   "cell_type": "code",
   "execution_count": 73,
   "metadata": {},
   "outputs": [],
   "source": [
    "temp_1 = pd.get_dummies(data_2[['se_category']],prefix=['sc'])\n",
    "temp_2 = pd.get_dummies(data_2[['se_action']],prefix=['sa'])\n",
    "data_2 = pd.concat([data_2,temp_1,temp_2],axis=1)\n",
    "data_2.drop(columns=['se_category','se_action','sc_0','sa_0'],inplace=True)"
   ]
  },
  {
   "cell_type": "markdown",
   "metadata": {},
   "source": [
    "Now, we group the data on the basis of 'id' and 'dt' and sum them up. On summing up, we get the number of times a category was recorded by an id on a day, for all the days that id generated a lead."
   ]
  },
  {
   "cell_type": "code",
   "execution_count": 74,
   "metadata": {},
   "outputs": [],
   "source": [
    "data_2 = data_2.groupby(['id','dt'],as_index=False).sum()"
   ]
  },
  {
   "cell_type": "markdown",
   "metadata": {},
   "source": [
    "We sort the grouped data on the basis of id first and then on date. Doing this ensures us that none of the instances of an id will overlap with that of other ids and the data will remain in chronological order as well."
   ]
  },
  {
   "cell_type": "code",
   "execution_count": 75,
   "metadata": {},
   "outputs": [],
   "source": [
    "data_2.sort_values(['id','dt'], ascending=[True, True], inplace=True)"
   ]
  },
  {
   "cell_type": "code",
   "execution_count": 76,
   "metadata": {},
   "outputs": [
    {
     "data": {
      "text/plain": [
       "Index(['id', 'dt', 'event', 'se_value', 'id2', 'sc_Lead Submit', 'sc_Leadgen',\n",
       "       'sc_Other', 'sc_Purchase', 'sa_Add to Cart', 'sa_Category Page',\n",
       "       'sa_Click', 'sa_Course_specific', 'sa_Free Trial Registration',\n",
       "       'sa_Init', 'sa_LST', 'sa_New Free User Registration', 'sa_Other',\n",
       "       'sa_Product Detail', 'sa_Purchase', 'sa_Show', 'sa_Signin', 'sa_Signup',\n",
       "       'sa_Submit', 'sa_Success'],\n",
       "      dtype='object')"
      ]
     },
     "execution_count": 76,
     "metadata": {},
     "output_type": "execute_result"
    }
   ],
   "source": [
    "data_2.columns"
   ]
  },
  {
   "cell_type": "code",
   "execution_count": 77,
   "metadata": {},
   "outputs": [
    {
     "data": {
      "text/html": [
       "<div>\n",
       "<style scoped>\n",
       "    .dataframe tbody tr th:only-of-type {\n",
       "        vertical-align: middle;\n",
       "    }\n",
       "\n",
       "    .dataframe tbody tr th {\n",
       "        vertical-align: top;\n",
       "    }\n",
       "\n",
       "    .dataframe thead th {\n",
       "        text-align: right;\n",
       "    }\n",
       "</style>\n",
       "<table border=\"1\" class=\"dataframe\">\n",
       "  <thead>\n",
       "    <tr style=\"text-align: right;\">\n",
       "      <th></th>\n",
       "      <th>id</th>\n",
       "      <th>dt</th>\n",
       "      <th>event</th>\n",
       "      <th>se_value</th>\n",
       "      <th>id2</th>\n",
       "      <th>sc_Lead Submit</th>\n",
       "      <th>sc_Leadgen</th>\n",
       "      <th>sc_Other</th>\n",
       "      <th>sc_Purchase</th>\n",
       "      <th>sa_Add to Cart</th>\n",
       "      <th>...</th>\n",
       "      <th>sa_LST</th>\n",
       "      <th>sa_New Free User Registration</th>\n",
       "      <th>sa_Other</th>\n",
       "      <th>sa_Product Detail</th>\n",
       "      <th>sa_Purchase</th>\n",
       "      <th>sa_Show</th>\n",
       "      <th>sa_Signin</th>\n",
       "      <th>sa_Signup</th>\n",
       "      <th>sa_Submit</th>\n",
       "      <th>sa_Success</th>\n",
       "    </tr>\n",
       "  </thead>\n",
       "  <tbody>\n",
       "    <tr>\n",
       "      <th>0</th>\n",
       "      <td>003bf97cb020ba13</td>\n",
       "      <td>2019-05-27</td>\n",
       "      <td>14</td>\n",
       "      <td>300000.0</td>\n",
       "      <td>0</td>\n",
       "      <td>0</td>\n",
       "      <td>2</td>\n",
       "      <td>12</td>\n",
       "      <td>5</td>\n",
       "      <td>0</td>\n",
       "      <td>...</td>\n",
       "      <td>0</td>\n",
       "      <td>0</td>\n",
       "      <td>4</td>\n",
       "      <td>4</td>\n",
       "      <td>0</td>\n",
       "      <td>6</td>\n",
       "      <td>0</td>\n",
       "      <td>0</td>\n",
       "      <td>1</td>\n",
       "      <td>0</td>\n",
       "    </tr>\n",
       "    <tr>\n",
       "      <th>1</th>\n",
       "      <td>003bf97cb020ba13</td>\n",
       "      <td>2019-05-28</td>\n",
       "      <td>10</td>\n",
       "      <td>234750.0</td>\n",
       "      <td>0</td>\n",
       "      <td>0</td>\n",
       "      <td>2</td>\n",
       "      <td>8</td>\n",
       "      <td>4</td>\n",
       "      <td>0</td>\n",
       "      <td>...</td>\n",
       "      <td>0</td>\n",
       "      <td>0</td>\n",
       "      <td>4</td>\n",
       "      <td>3</td>\n",
       "      <td>0</td>\n",
       "      <td>3</td>\n",
       "      <td>0</td>\n",
       "      <td>0</td>\n",
       "      <td>1</td>\n",
       "      <td>0</td>\n",
       "    </tr>\n",
       "    <tr>\n",
       "      <th>2</th>\n",
       "      <td>003bf97cb020ba13</td>\n",
       "      <td>2019-05-29</td>\n",
       "      <td>5</td>\n",
       "      <td>208500.0</td>\n",
       "      <td>0</td>\n",
       "      <td>0</td>\n",
       "      <td>0</td>\n",
       "      <td>4</td>\n",
       "      <td>6</td>\n",
       "      <td>0</td>\n",
       "      <td>...</td>\n",
       "      <td>0</td>\n",
       "      <td>0</td>\n",
       "      <td>0</td>\n",
       "      <td>4</td>\n",
       "      <td>0</td>\n",
       "      <td>0</td>\n",
       "      <td>0</td>\n",
       "      <td>0</td>\n",
       "      <td>0</td>\n",
       "      <td>0</td>\n",
       "    </tr>\n",
       "    <tr>\n",
       "      <th>3</th>\n",
       "      <td>003bf97cb020ba13</td>\n",
       "      <td>2019-05-30</td>\n",
       "      <td>13</td>\n",
       "      <td>24022878.0</td>\n",
       "      <td>1</td>\n",
       "      <td>0</td>\n",
       "      <td>0</td>\n",
       "      <td>16</td>\n",
       "      <td>20</td>\n",
       "      <td>6</td>\n",
       "      <td>...</td>\n",
       "      <td>0</td>\n",
       "      <td>0</td>\n",
       "      <td>0</td>\n",
       "      <td>8</td>\n",
       "      <td>1</td>\n",
       "      <td>0</td>\n",
       "      <td>2</td>\n",
       "      <td>0</td>\n",
       "      <td>0</td>\n",
       "      <td>1</td>\n",
       "    </tr>\n",
       "    <tr>\n",
       "      <th>4</th>\n",
       "      <td>00a869cc072924f7</td>\n",
       "      <td>2019-05-27</td>\n",
       "      <td>22</td>\n",
       "      <td>23582879.0</td>\n",
       "      <td>0</td>\n",
       "      <td>0</td>\n",
       "      <td>2</td>\n",
       "      <td>45</td>\n",
       "      <td>11</td>\n",
       "      <td>0</td>\n",
       "      <td>...</td>\n",
       "      <td>0</td>\n",
       "      <td>0</td>\n",
       "      <td>5</td>\n",
       "      <td>5</td>\n",
       "      <td>0</td>\n",
       "      <td>10</td>\n",
       "      <td>13</td>\n",
       "      <td>0</td>\n",
       "      <td>0</td>\n",
       "      <td>0</td>\n",
       "    </tr>\n",
       "  </tbody>\n",
       "</table>\n",
       "<p>5 rows × 25 columns</p>\n",
       "</div>"
      ],
      "text/plain": [
       "                 id          dt  event    se_value  id2  sc_Lead Submit  \\\n",
       "0  003bf97cb020ba13  2019-05-27     14    300000.0    0               0   \n",
       "1  003bf97cb020ba13  2019-05-28     10    234750.0    0               0   \n",
       "2  003bf97cb020ba13  2019-05-29      5    208500.0    0               0   \n",
       "3  003bf97cb020ba13  2019-05-30     13  24022878.0    1               0   \n",
       "4  00a869cc072924f7  2019-05-27     22  23582879.0    0               0   \n",
       "\n",
       "   sc_Leadgen  sc_Other  sc_Purchase  sa_Add to Cart     ...      sa_LST  \\\n",
       "0           2        12            5               0     ...           0   \n",
       "1           2         8            4               0     ...           0   \n",
       "2           0         4            6               0     ...           0   \n",
       "3           0        16           20               6     ...           0   \n",
       "4           2        45           11               0     ...           0   \n",
       "\n",
       "   sa_New Free User Registration  sa_Other  sa_Product Detail  sa_Purchase  \\\n",
       "0                              0         4                  4            0   \n",
       "1                              0         4                  3            0   \n",
       "2                              0         0                  4            0   \n",
       "3                              0         0                  8            1   \n",
       "4                              0         5                  5            0   \n",
       "\n",
       "   sa_Show  sa_Signin  sa_Signup  sa_Submit  sa_Success  \n",
       "0        6          0          0          1           0  \n",
       "1        3          0          0          1           0  \n",
       "2        0          0          0          0           0  \n",
       "3        0          2          0          0           1  \n",
       "4       10         13          0          0           0  \n",
       "\n",
       "[5 rows x 25 columns]"
      ]
     },
     "execution_count": 77,
     "metadata": {},
     "output_type": "execute_result"
    }
   ],
   "source": [
    "data_2.head()"
   ]
  },
  {
   "cell_type": "code",
   "execution_count": 78,
   "metadata": {},
   "outputs": [],
   "source": [
    "data_2.drop(columns=['se_value', 'sc_Purchase', 'sa_Category Page', 'sa_Click',\n",
    "       'sa_Free Trial Registration', 'sa_LST', 'sa_New Free User Registration', 'sa_Other',\n",
    "       'sa_Purchase', 'sa_Show', 'sa_Signin', 'sa_Signup', 'sa_Submit', 'sa_Success'],inplace=True)"
   ]
  },
  {
   "cell_type": "markdown",
   "metadata": {},
   "source": [
    "Now we Label Encode all the possible dates in our data so as to get a sequential numeric value for each date relative to the first date in our data which will be encoded as 0."
   ]
  },
  {
   "cell_type": "code",
   "execution_count": 79,
   "metadata": {},
   "outputs": [],
   "source": [
    "data_2['id'].unique().shape\n",
    "unique_cust_id = data_2['id'].unique()"
   ]
  },
  {
   "cell_type": "code",
   "execution_count": 80,
   "metadata": {},
   "outputs": [],
   "source": [
    "le = preprocessing.LabelEncoder()\n",
    "data_2['dt'] = le.fit_transform(data_2['dt'])"
   ]
  },
  {
   "cell_type": "code",
   "execution_count": 81,
   "metadata": {},
   "outputs": [
    {
     "data": {
      "text/plain": [
       "680"
      ]
     },
     "execution_count": 81,
     "metadata": {},
     "output_type": "execute_result"
    }
   ],
   "source": [
    "dates = dict((k,int) for k in unique_cust_id)\n",
    "for index,row in data_2.iterrows():\n",
    "    if row['id2']>=1:\n",
    "        dates[row['id']] = row['dt']\n",
    "len(dates)"
   ]
  },
  {
   "cell_type": "markdown",
   "metadata": {},
   "source": [
    "Now we map the ids with their date of purchase. \n",
    "Also we create a column for relative date of an instance with respect to the date of purchase of that id.\n",
    "The value of relative date would be 0,-1,-2,-3... for prior to a purchase and would be 1,2,3,4... for days after a purchase."
   ]
  },
  {
   "cell_type": "code",
   "execution_count": 82,
   "metadata": {},
   "outputs": [],
   "source": [
    "data_2['pur_date']=0\n",
    "data_2['pur_date'] = data_2['id'].map(dates)\n",
    "\n",
    "data_2['rel_date']=0\n",
    "data_2['rel_date'] = data_2['dt'] - data_2['pur_date']\n",
    "\n",
    "data_2.drop(columns=['dt','pur_date'], inplace=True)"
   ]
  },
  {
   "cell_type": "markdown",
   "metadata": {},
   "source": [
    "For our model, we would be using the data for only 5 days prior to a purchase. So, we remove the data with dates before 5 days prior to purchase date and after the date of purchase."
   ]
  },
  {
   "cell_type": "code",
   "execution_count": 83,
   "metadata": {},
   "outputs": [],
   "source": [
    "selRows = data_2[data_2['rel_date']>0].index\n",
    "data_2 = data_2.drop(selRows, axis=0)\n",
    "\n",
    "selRows = data_2[data_2['rel_date']<-5].index\n",
    "data_2 = data_2.drop(selRows, axis=0)\n",
    "\n",
    "data_2['rel_date'] = data_2['rel_date'].astype(str)"
   ]
  },
  {
   "cell_type": "code",
   "execution_count": 84,
   "metadata": {},
   "outputs": [
    {
     "data": {
      "text/plain": [
       "Index(['id', 'event', 'id2', 'sc_Lead Submit', 'sc_Leadgen', 'sc_Other',\n",
       "       'sa_Add to Cart', 'sa_Course_specific', 'sa_Init', 'sa_Product Detail',\n",
       "       'rel_date'],\n",
       "      dtype='object')"
      ]
     },
     "execution_count": 84,
     "metadata": {},
     "output_type": "execute_result"
    }
   ],
   "source": [
    "data_2.columns"
   ]
  },
  {
   "cell_type": "markdown",
   "metadata": {},
   "source": [
    "Now, we create a pivot table with index as ids and columns as relative dates.\n",
    "Pivoting a table would result in making columns out of a categorical value in a column. Thus on pivoting on columns as relative date, we get the count of a categorical variable for each id on 5 days prior to a purchase."
   ]
  },
  {
   "cell_type": "code",
   "execution_count": 85,
   "metadata": {},
   "outputs": [],
   "source": [
    "pt = pd.pivot_table(data_2, values=['event','sa_Init','sc_Lead Submit',\n",
    "                                    'sc_Leadgen', 'sc_Other','sa_Add to Cart',\n",
    "                                    'sa_Course_specific','sa_Product Detail'], index='id', columns='rel_date')\n",
    "data_3 = pt.reset_index()"
   ]
  },
  {
   "cell_type": "code",
   "execution_count": 86,
   "metadata": {},
   "outputs": [
    {
     "data": {
      "text/html": [
       "<div>\n",
       "<style scoped>\n",
       "    .dataframe tbody tr th:only-of-type {\n",
       "        vertical-align: middle;\n",
       "    }\n",
       "\n",
       "    .dataframe tbody tr th {\n",
       "        vertical-align: top;\n",
       "    }\n",
       "\n",
       "    .dataframe thead tr th {\n",
       "        text-align: left;\n",
       "    }\n",
       "</style>\n",
       "<table border=\"1\" class=\"dataframe\">\n",
       "  <thead>\n",
       "    <tr>\n",
       "      <th></th>\n",
       "      <th>id</th>\n",
       "      <th colspan=\"6\" halign=\"left\">event</th>\n",
       "      <th colspan=\"3\" halign=\"left\">sa_Add to Cart</th>\n",
       "      <th>...</th>\n",
       "      <th colspan=\"4\" halign=\"left\">sc_Leadgen</th>\n",
       "      <th colspan=\"6\" halign=\"left\">sc_Other</th>\n",
       "    </tr>\n",
       "    <tr>\n",
       "      <th>rel_date</th>\n",
       "      <th></th>\n",
       "      <th>-1</th>\n",
       "      <th>-2</th>\n",
       "      <th>-3</th>\n",
       "      <th>-4</th>\n",
       "      <th>-5</th>\n",
       "      <th>0</th>\n",
       "      <th>-1</th>\n",
       "      <th>-2</th>\n",
       "      <th>-3</th>\n",
       "      <th>...</th>\n",
       "      <th>-3</th>\n",
       "      <th>-4</th>\n",
       "      <th>-5</th>\n",
       "      <th>0</th>\n",
       "      <th>-1</th>\n",
       "      <th>-2</th>\n",
       "      <th>-3</th>\n",
       "      <th>-4</th>\n",
       "      <th>-5</th>\n",
       "      <th>0</th>\n",
       "    </tr>\n",
       "  </thead>\n",
       "  <tbody>\n",
       "    <tr>\n",
       "      <th>0</th>\n",
       "      <td>003bf97cb020ba13</td>\n",
       "      <td>5.0</td>\n",
       "      <td>10.0</td>\n",
       "      <td>14.0</td>\n",
       "      <td>NaN</td>\n",
       "      <td>NaN</td>\n",
       "      <td>13.0</td>\n",
       "      <td>0.0</td>\n",
       "      <td>0.0</td>\n",
       "      <td>0.0</td>\n",
       "      <td>...</td>\n",
       "      <td>2.0</td>\n",
       "      <td>NaN</td>\n",
       "      <td>NaN</td>\n",
       "      <td>0.0</td>\n",
       "      <td>4.0</td>\n",
       "      <td>8.0</td>\n",
       "      <td>12.0</td>\n",
       "      <td>NaN</td>\n",
       "      <td>NaN</td>\n",
       "      <td>16.0</td>\n",
       "    </tr>\n",
       "    <tr>\n",
       "      <th>1</th>\n",
       "      <td>00a869cc072924f7</td>\n",
       "      <td>NaN</td>\n",
       "      <td>NaN</td>\n",
       "      <td>5.0</td>\n",
       "      <td>22.0</td>\n",
       "      <td>NaN</td>\n",
       "      <td>12.0</td>\n",
       "      <td>NaN</td>\n",
       "      <td>NaN</td>\n",
       "      <td>0.0</td>\n",
       "      <td>...</td>\n",
       "      <td>0.0</td>\n",
       "      <td>2.0</td>\n",
       "      <td>NaN</td>\n",
       "      <td>0.0</td>\n",
       "      <td>NaN</td>\n",
       "      <td>NaN</td>\n",
       "      <td>7.0</td>\n",
       "      <td>45.0</td>\n",
       "      <td>NaN</td>\n",
       "      <td>27.0</td>\n",
       "    </tr>\n",
       "    <tr>\n",
       "      <th>2</th>\n",
       "      <td>00f5802110b0b6c8</td>\n",
       "      <td>NaN</td>\n",
       "      <td>NaN</td>\n",
       "      <td>NaN</td>\n",
       "      <td>NaN</td>\n",
       "      <td>NaN</td>\n",
       "      <td>18.0</td>\n",
       "      <td>NaN</td>\n",
       "      <td>NaN</td>\n",
       "      <td>NaN</td>\n",
       "      <td>...</td>\n",
       "      <td>NaN</td>\n",
       "      <td>NaN</td>\n",
       "      <td>NaN</td>\n",
       "      <td>2.0</td>\n",
       "      <td>NaN</td>\n",
       "      <td>NaN</td>\n",
       "      <td>NaN</td>\n",
       "      <td>NaN</td>\n",
       "      <td>NaN</td>\n",
       "      <td>26.0</td>\n",
       "    </tr>\n",
       "    <tr>\n",
       "      <th>3</th>\n",
       "      <td>0242ae746a4b7ada</td>\n",
       "      <td>8.0</td>\n",
       "      <td>NaN</td>\n",
       "      <td>7.0</td>\n",
       "      <td>NaN</td>\n",
       "      <td>4.0</td>\n",
       "      <td>11.0</td>\n",
       "      <td>0.0</td>\n",
       "      <td>NaN</td>\n",
       "      <td>0.0</td>\n",
       "      <td>...</td>\n",
       "      <td>2.0</td>\n",
       "      <td>NaN</td>\n",
       "      <td>0.0</td>\n",
       "      <td>0.0</td>\n",
       "      <td>16.0</td>\n",
       "      <td>NaN</td>\n",
       "      <td>13.0</td>\n",
       "      <td>NaN</td>\n",
       "      <td>6.0</td>\n",
       "      <td>20.0</td>\n",
       "    </tr>\n",
       "    <tr>\n",
       "      <th>4</th>\n",
       "      <td>02874f7a1af27721</td>\n",
       "      <td>NaN</td>\n",
       "      <td>NaN</td>\n",
       "      <td>NaN</td>\n",
       "      <td>NaN</td>\n",
       "      <td>NaN</td>\n",
       "      <td>20.0</td>\n",
       "      <td>NaN</td>\n",
       "      <td>NaN</td>\n",
       "      <td>NaN</td>\n",
       "      <td>...</td>\n",
       "      <td>NaN</td>\n",
       "      <td>NaN</td>\n",
       "      <td>NaN</td>\n",
       "      <td>2.0</td>\n",
       "      <td>NaN</td>\n",
       "      <td>NaN</td>\n",
       "      <td>NaN</td>\n",
       "      <td>NaN</td>\n",
       "      <td>NaN</td>\n",
       "      <td>31.0</td>\n",
       "    </tr>\n",
       "  </tbody>\n",
       "</table>\n",
       "<p>5 rows × 49 columns</p>\n",
       "</div>"
      ],
      "text/plain": [
       "                        id event                              sa_Add to Cart  \\\n",
       "rel_date                      -1    -2    -3    -4   -5     0             -1   \n",
       "0         003bf97cb020ba13   5.0  10.0  14.0   NaN  NaN  13.0            0.0   \n",
       "1         00a869cc072924f7   NaN   NaN   5.0  22.0  NaN  12.0            NaN   \n",
       "2         00f5802110b0b6c8   NaN   NaN   NaN   NaN  NaN  18.0            NaN   \n",
       "3         0242ae746a4b7ada   8.0   NaN   7.0   NaN  4.0  11.0            0.0   \n",
       "4         02874f7a1af27721   NaN   NaN   NaN   NaN  NaN  20.0            NaN   \n",
       "\n",
       "                    ...  sc_Leadgen                sc_Other                   \\\n",
       "rel_date   -2   -3  ...          -3   -4   -5    0       -1   -2    -3    -4   \n",
       "0         0.0  0.0  ...         2.0  NaN  NaN  0.0      4.0  8.0  12.0   NaN   \n",
       "1         NaN  0.0  ...         0.0  2.0  NaN  0.0      NaN  NaN   7.0  45.0   \n",
       "2         NaN  NaN  ...         NaN  NaN  NaN  2.0      NaN  NaN   NaN   NaN   \n",
       "3         NaN  0.0  ...         2.0  NaN  0.0  0.0     16.0  NaN  13.0   NaN   \n",
       "4         NaN  NaN  ...         NaN  NaN  NaN  2.0      NaN  NaN   NaN   NaN   \n",
       "\n",
       "                     \n",
       "rel_date   -5     0  \n",
       "0         NaN  16.0  \n",
       "1         NaN  27.0  \n",
       "2         NaN  26.0  \n",
       "3         6.0  20.0  \n",
       "4         NaN  31.0  \n",
       "\n",
       "[5 rows x 49 columns]"
      ]
     },
     "execution_count": 86,
     "metadata": {},
     "output_type": "execute_result"
    }
   ],
   "source": [
    "data_3.head()"
   ]
  },
  {
   "cell_type": "markdown",
   "metadata": {},
   "source": [
    "Now we count the activity of each signal on the last 5 days prior to purchase. The count is taken as a sum for all ids."
   ]
  },
  {
   "cell_type": "code",
   "execution_count": 87,
   "metadata": {
    "scrolled": true
   },
   "outputs": [
    {
     "name": "stdout",
     "output_type": "stream",
     "text": [
      "event :\n",
      "32\n",
      "54\n",
      "66\n",
      "91\n",
      "207\n",
      "680\n",
      "---------\n",
      "sa_Init :\n",
      "7\n",
      "29\n",
      "31\n",
      "41\n",
      "133\n",
      "676\n",
      "---------\n",
      "sc_Lead Submit :\n",
      "2\n",
      "3\n",
      "1\n",
      "4\n",
      "5\n",
      "16\n",
      "---------\n",
      "sc_Leadgen :\n",
      "19\n",
      "34\n",
      "34\n",
      "57\n",
      "135\n",
      "400\n",
      "---------\n",
      "sc_Other :\n",
      "30\n",
      "52\n",
      "63\n",
      "90\n",
      "204\n",
      "680\n",
      "---------\n",
      "sa_Add to Cart :\n",
      "0\n",
      "1\n",
      "3\n",
      "5\n",
      "24\n",
      "671\n",
      "---------\n",
      "sa_Course_specific :\n",
      "22\n",
      "42\n",
      "40\n",
      "64\n",
      "150\n",
      "565\n",
      "---------\n",
      "sa_Product Detail :\n",
      "13\n",
      "33\n",
      "44\n",
      "63\n",
      "157\n",
      "677\n",
      "---------\n"
     ]
    }
   ],
   "source": [
    "col_names = ['event','sa_Init','sc_Lead Submit','sc_Leadgen','sc_Other','sa_Add to Cart','sa_Course_specific','sa_Product Detail']\n",
    "for i in col_names:\n",
    "    print(i,':')\n",
    "    print(data_3.loc[data_3[i]['-5']>0,i]['-5'].count())\n",
    "    print(data_3.loc[data_3[i]['-4']>0,i]['-4'].count())\n",
    "    print(data_3.loc[data_3[i]['-3']>0,i]['-3'].count())\n",
    "    print(data_3.loc[data_3[i]['-2']>0,i]['-2'].count())\n",
    "    print(data_3.loc[data_3[i]['-1']>0,i]['-1'].count())\n",
    "    print(data_3.loc[data_3[i]['0']>0,i]['0'].count())\n",
    "    print('---------')"
   ]
  },
  {
   "cell_type": "code",
   "execution_count": 88,
   "metadata": {},
   "outputs": [],
   "source": [
    "sc_o = []\n",
    "sa_a = []\n",
    "sa_c = []\n",
    "sa_p = []\n",
    "sc_l = []\n",
    "sc_ls = []\n",
    "sa_i = []\n",
    "event = []\n",
    "\n",
    "for i in ['-5','-4','-3','-2','-1','0']:\n",
    "    sc_o.append(data_3.loc[data_3['sc_Other'][i]>0,'sc_Other'][i].count())\n",
    "for i in ['-5','-4','-3','-2','-1','0']:\n",
    "    sa_a.append(data_3.loc[data_3['sa_Add to Cart'][i]>0,'sa_Add to Cart'][i].count())\n",
    "for i in ['-5','-4','-3','-2','-1','0']:\n",
    "    sa_c.append(data_3.loc[data_3['sa_Course_specific'][i]>0,'sa_Course_specific'][i].count())\n",
    "for i in ['-5','-4','-3','-2','-1','0']:\n",
    "    sa_p.append(data_3.loc[data_3['sa_Product Detail'][i]>0,'sa_Product Detail'][i].count())\n",
    "for i in ['-5','-4','-3','-2','-1','0']:\n",
    "    sc_l.append(data_3.loc[data_3['sc_Leadgen'][i]>0,'sc_Leadgen'][i].count())\n",
    "for i in ['-5','-4','-3','-2','-1','0']:\n",
    "    sc_ls.append(data_3.loc[data_3['sc_Lead Submit'][i]>0,'sc_Lead Submit'][i].count())\n",
    "for i in ['-5','-4','-3','-2','-1','0']:\n",
    "    sa_i.append(data_3.loc[data_3['sa_Init'][i]>0,'sa_Init'][i].count())\n",
    "for i in ['-5','-4','-3','-2','-1','0']:\n",
    "    event.append(data_3.loc[data_3['event'][i]>0,'event'][i].count())"
   ]
  },
  {
   "cell_type": "markdown",
   "metadata": {},
   "source": [
    "We can see that the distribution of all these signals is distributed normally about the date of purchase, as expected. The activity for all these signals is maximum on the date of purchase and decreases subsequently."
   ]
  },
  {
   "cell_type": "code",
   "execution_count": 89,
   "metadata": {},
   "outputs": [
    {
     "data": {
      "image/png": "[encoded data removed]",
      "text/plain": [
       "<Figure size 576x432 with 1 Axes>"
      ]
     },
     "metadata": {},
     "output_type": "display_data"
    }
   ],
   "source": [
    "x = ['-5','-4','-3','-2','-1','0']\n",
    "figure(figsize=(8, 6))\n",
    "line1, = plt.plot(x,sa_p)\n",
    "line2, = plt.plot(x,sa_a)\n",
    "line3, = plt.plot(x,sa_c)\n",
    "line4, = plt.plot(x,sc_o)\n",
    "line5, = plt.plot(x,sc_l)\n",
    "line6, = plt.plot(x,sc_ls)\n",
    "# line7, = plt.plot(x,sa_i)\n",
    "line8, = plt.plot(x,event)\n",
    "plt.legend((line1, line2, line3, line4, line5, line6, line8), ('Product Detail', 'Add to Cart', 'Course Specific', 'Other', 'Leadgen', 'Lead Submit', 'evemt'))\n",
    "plt.show()"
   ]
  },
  {
   "cell_type": "markdown",
   "metadata": {},
   "source": [
    "### Similary, we prepare the data for ids who didn't make a purchase"
   ]
  },
  {
   "cell_type": "markdown",
   "metadata": {},
   "source": [
    "We assume, the last date of the given data as the predicting purchase date for these ids."
   ]
  },
  {
   "cell_type": "code",
   "execution_count": 44,
   "metadata": {},
   "outputs": [],
   "source": [
    "pos_data = new_data[~new_data['id'].isin(success_ids)]\n",
    "pos_data[(pos_data['se_category']=='Purchase')&(pos_data['se_action']=='Success')]\n",
    "\n",
    "pos_data.sort_values(['id','dt'], ascending=[True, True], inplace=True)\n",
    "pos_data['dt'] = pos_data['dt'].apply(lambda x: datetime.strptime(x,\"%Y-%m-%d %H:%M:%S\"))\n",
    "pos_data['dt'] = pos_data['dt'].dt.date\n",
    "pos_data['id2']=0\n",
    "\n",
    "data_2 = pos_data\n",
    "\n",
    "data_2 = data_2.fillna(0)\n",
    "data_2['se_action'] = data_2['se_action'].replace('na',0)\n",
    "data_2['se_action'] = data_2['se_action'].replace(Course_specific,'Course_specific')\n",
    "data_2['se_action'] = data_2['se_action'].replace(['index','Type Page','localStorage','ERR'],'Other')\n",
    "data_2['se_action'] = data_2['se_action'].replace(['Submitted','Submited'],'Submit')\n",
    "data_2['se_action'] = data_2['se_action'].replace('SIGNUP','Signup')\n",
    "data_2['se_category'] = data_2['se_category'].replace(['Head_Icons', 'Form Submit',\n",
    "       'Dimensions', 'ajaxSignIn', 'Banner', 'Nudge', 'TrackVisit',\n",
    "       'ajaxSignUp', 'All_Programs', 'Debug', 'Chatbot',\n",
    "       'Connect', 'LeadHooks', 'Notifications', 'SISLogin'],'Other')\n",
    "temp_1 = pd.get_dummies(data_2[['se_category']],prefix=['sc'])\n",
    "temp_2 = pd.get_dummies(data_2[['se_action']],prefix=['sa'])\n",
    "data_2 = pd.concat([data_2,temp_1,temp_2],axis=1)\n",
    "data_2.drop(columns=['se_category','se_action','sc_0','sa_0'],inplace=True)\n",
    "\n",
    "data_2['event'] = data_2['event'].replace('page_view',1)\n",
    "data_2['event'] = data_2['event'].replace('struct',0)\n",
    "\n",
    "data_2 = data_2.groupby(['id','dt'],as_index=False).sum()\n",
    "data_2.sort_values(['id','dt'], ascending=[True, True], inplace=True)\n",
    "\n",
    "data_2.drop(columns=['se_value',\n",
    "       'sc_Purchase', 'sa_Category Page', 'sa_Click',\n",
    "       'sa_Free Trial Registration',\n",
    "       'sa_LST', 'sa_New Free User Registration', 'sa_Other',\n",
    "       'sa_Purchase', 'sa_Show', 'sa_Signin', 'sa_Signup',\n",
    "       'sa_Submit','sa_FORMS',],inplace=True)\n",
    "\n",
    "data_2['id'].unique().shape\n",
    "unique_cust_id = data_2['id'].unique()\n",
    "\n",
    "le = preprocessing.LabelEncoder()\n",
    "data_2['dt'] = le.fit_transform(data_2['dt'])\n",
    "\n",
    "last_date = np.sort(data_2['dt'].unique())[-1]\n",
    "last_date\n",
    "\n",
    "dates = dict((k,int) for k in unique_cust_id)\n",
    "for index,row in data_2.iterrows():\n",
    "    dates[row['id']] = last_date\n",
    "    \n",
    "data_2['last_date']=0\n",
    "data_2['last_date'] = data_2['id'].map(dates)\n",
    "data_2['rel_date']=0\n",
    "data_2['rel_date'] = data_2['dt'] - data_2['last_date']\n",
    "\n",
    "data_2.drop(columns=['dt','last_date'], inplace=True)\n",
    "\n",
    "selRows = data_2[data_2['rel_date']>0].index\n",
    "data_2 = data_2.drop(selRows, axis=0)\n",
    "selRows = data_2[data_2['rel_date']<-5].index\n",
    "data_2 = data_2.drop(selRows, axis=0)\n",
    "\n",
    "data_2['rel_date'] = data_2['rel_date'].astype(str)\n",
    "\n",
    "pt2 = pd.pivot_table(data_2, values=['event','sa_Init','sc_Lead Submit','sc_Leadgen','sc_Other','sa_Add to Cart','sa_Course_specific','sa_Product Detail'], index='id', columns='rel_date')\n",
    "data_4 = pt2.reset_index()"
   ]
  },
  {
   "cell_type": "markdown",
   "metadata": {},
   "source": [
    "Again, we count the activity of each signal on the last 5 days prior to the predicting date. Though, as anticipated we find that this count is not normalized. The count of these signals does not follow a pattern."
   ]
  },
  {
   "cell_type": "code",
   "execution_count": 45,
   "metadata": {},
   "outputs": [],
   "source": [
    "sc_o = []\n",
    "sa_a = []\n",
    "sa_c = []\n",
    "sa_p = []\n",
    "sc_l = []\n",
    "sc_ls = []\n",
    "sa_i = []\n",
    "event = []\n",
    "for i in ['-5','-4','-3','-2','-1','0']:\n",
    "    sc_o.append(data_4.loc[data_4['sc_Other'][i]>0,'sc_Other'][i].count())\n",
    "for i in ['-5','-4','-3','-2','-1','0']:\n",
    "    sa_a.append(data_4.loc[data_4['sa_Add to Cart'][i]>0,'sa_Add to Cart'][i].count())\n",
    "for i in ['-5','-4','-3','-2','-1','0']:\n",
    "    sa_c.append(data_4.loc[data_4['sa_Course_specific'][i]>0,'sa_Course_specific'][i].count())\n",
    "for i in ['-5','-4','-3','-2','-1','0']:\n",
    "    sa_p.append(data_4.loc[data_4['sa_Product Detail'][i]>0,'sa_Product Detail'][i].count())\n",
    "for i in ['-5','-4','-3','-2','-1','0']:\n",
    "    sc_l.append(data_4.loc[data_4['sc_Leadgen'][i]>0,'sc_Leadgen'][i].count())\n",
    "for i in ['-5','-4','-3','-2','-1','0']:\n",
    "    sc_ls.append(data_4.loc[data_4['sc_Lead Submit'][i]>0,'sc_Lead Submit'][i].count())\n",
    "for i in ['-5','-4','-3','-2','-1','0']:\n",
    "    sa_i.append(data_3.loc[data_3['sa_Init'][i]>0,'sa_Init'][i].count())\n",
    "for i in ['-5','-4','-3','-2','-1','0']:\n",
    "    event.append(data_3.loc[data_3['event'][i]>0,'event'][i].count())"
   ]
  },
  {
   "cell_type": "code",
   "execution_count": 46,
   "metadata": {},
   "outputs": [
    {
     "data": {
      "text/plain": [
       "<matplotlib.legend.Legend at 0x7f8602f08588>"
      ]
     },
     "execution_count": 46,
     "metadata": {},
     "output_type": "execute_result"
    },
    {
     "data": {
      "image/png": "[encoded data removed]",
      "text/plain": [
       "<Figure size 576x432 with 1 Axes>"
      ]
     },
     "metadata": {},
     "output_type": "display_data"
    }
   ],
   "source": [
    "x = ['-5','-4','-3','-2','-1','0']\n",
    "figure(figsize=(8, 6))\n",
    "line1, = plt.plot(x,sa_p)\n",
    "line2, = plt.plot(x,sa_a)\n",
    "line3, = plt.plot(x,sa_c)\n",
    "line4, = plt.plot(x,sc_o)\n",
    "line5, = plt.plot(x,sc_l)\n",
    "line6, = plt.plot(x,sc_ls)\n",
    "# line7, = plt.plot(x,sa_i)\n",
    "# line8, = plt.plot(x,event)\n",
    "plt.legend((line1, line2, line3, line4, line5, line6), ('Product Detail', 'Add to Cart', 'Course Specific', 'Other', 'Leadgen', 'Lead Submit'))"
   ]
  },
  {
   "cell_type": "code",
   "execution_count": 47,
   "metadata": {},
   "outputs": [],
   "source": [
    "data_3['result'] = 1\n",
    "data_4['result'] = 0"
   ]
  },
  {
   "cell_type": "markdown",
   "metadata": {},
   "source": [
    "Now we flatten the multi index columns we obtained after pivoting the dataframe to get one indexed column names."
   ]
  },
  {
   "cell_type": "code",
   "execution_count": 48,
   "metadata": {},
   "outputs": [],
   "source": [
    "data_3.columns = ['_'.join(col).rstrip('_') for col in data_3.columns.values]\n",
    "data_4.columns = ['_'.join(col).rstrip('_') for col in data_4.columns.values]"
   ]
  },
  {
   "cell_type": "code",
   "execution_count": 49,
   "metadata": {},
   "outputs": [],
   "source": [
    "data_5 = pd.concat([data_3,data_4])\n",
    "data_5.fillna(0,inplace=True)"
   ]
  },
  {
   "cell_type": "code",
   "execution_count": 50,
   "metadata": {},
   "outputs": [
    {
     "data": {
      "text/plain": [
       "Index(['id', 'event_-1', 'event_-2', 'event_-3', 'event_-4', 'event_-5',\n",
       "       'event_0', 'sa_Add to Cart_-1', 'sa_Add to Cart_-2',\n",
       "       'sa_Add to Cart_-3', 'sa_Add to Cart_-4', 'sa_Add to Cart_-5',\n",
       "       'sa_Add to Cart_0', 'sa_Course_specific_-1', 'sa_Course_specific_-2',\n",
       "       'sa_Course_specific_-3', 'sa_Course_specific_-4',\n",
       "       'sa_Course_specific_-5', 'sa_Course_specific_0', 'sa_Init_-1',\n",
       "       'sa_Init_-2', 'sa_Init_-3', 'sa_Init_-4', 'sa_Init_-5', 'sa_Init_0',\n",
       "       'sa_Product Detail_-1', 'sa_Product Detail_-2', 'sa_Product Detail_-3',\n",
       "       'sa_Product Detail_-4', 'sa_Product Detail_-5', 'sa_Product Detail_0',\n",
       "       'sc_Lead Submit_-1', 'sc_Lead Submit_-2', 'sc_Lead Submit_-3',\n",
       "       'sc_Lead Submit_-4', 'sc_Lead Submit_-5', 'sc_Lead Submit_0',\n",
       "       'sc_Leadgen_-1', 'sc_Leadgen_-2', 'sc_Leadgen_-3', 'sc_Leadgen_-4',\n",
       "       'sc_Leadgen_-5', 'sc_Leadgen_0', 'sc_Other_-1', 'sc_Other_-2',\n",
       "       'sc_Other_-3', 'sc_Other_-4', 'sc_Other_-5', 'sc_Other_0', 'result'],\n",
       "      dtype='object')"
      ]
     },
     "execution_count": 50,
     "metadata": {},
     "output_type": "execute_result"
    }
   ],
   "source": [
    "data_5.columns"
   ]
  },
  {
   "cell_type": "markdown",
   "metadata": {},
   "source": [
    "### Building the Model\n",
    "We split the data into feature vectors and target variable i.e. x and y.\n",
    "\n",
    "Then we split the resulting data into training and testing data and fit a RandomForestClassifier model."
   ]
  },
  {
   "cell_type": "code",
   "execution_count": 51,
   "metadata": {},
   "outputs": [],
   "source": [
    "y = data_5[\"result\"].values\n",
    "x = data_5[['id','event_-1', 'event_-2', 'event_-3', 'event_-4', 'event_-5',\n",
    "       'sa_Add to Cart_-1', 'sa_Add to Cart_-2',\n",
    "       'sa_Add to Cart_-3', 'sa_Add to Cart_-4', 'sa_Add to Cart_-5',\n",
    "       'sa_Course_specific_-1', 'sa_Course_specific_-2',\n",
    "       'sa_Course_specific_-3', 'sa_Course_specific_-4',\n",
    "       'sa_Course_specific_-5','sa_Init_-1',\n",
    "       'sa_Init_-2', 'sa_Init_-3', 'sa_Init_-4', 'sa_Init_-5',\n",
    "       'sa_Product Detail_-1', 'sa_Product Detail_-2', 'sa_Product Detail_-3',\n",
    "       'sa_Product Detail_-4', 'sa_Product Detail_-5']].values"
   ]
  },
  {
   "cell_type": "code",
   "execution_count": 52,
   "metadata": {},
   "outputs": [],
   "source": [
    "train_x,val_x,train_y,val_y=train_test_split(x,y,test_size=0.25,random_state=0)"
   ]
  },
  {
   "cell_type": "code",
   "execution_count": 53,
   "metadata": {},
   "outputs": [],
   "source": [
    "test_ids = val_x[:,:1]\n",
    "test_ids = test_ids.flatten()\n",
    "train_x = train_x[:,1:]\n",
    "val_x = val_x[:,1:]"
   ]
  },
  {
   "cell_type": "code",
   "execution_count": 54,
   "metadata": {},
   "outputs": [],
   "source": [
    "model = RandomForestClassifier()\n",
    "model.fit(train_x,train_y)\n",
    "preds = model.predict(val_x)"
   ]
  },
  {
   "cell_type": "markdown",
   "metadata": {},
   "source": [
    "We save our predictions into the 'preds' variable.\n",
    "\n",
    "Now we reduce the threshold for predicting values as positive using predicted_proba and set the probability to 0.25. Doing this allows the model to predict a person as a customer at a much lower threshold and thus reducing the False Negatives."
   ]
  },
  {
   "cell_type": "code",
   "execution_count": 55,
   "metadata": {},
   "outputs": [],
   "source": [
    "threshold = 0.25\n",
    "predicted_proba = model.predict_proba(val_x)\n",
    "predicted = (predicted_proba [:,1] >= threshold).astype('int')"
   ]
  },
  {
   "cell_type": "code",
   "execution_count": 56,
   "metadata": {},
   "outputs": [],
   "source": [
    "accuracy = accuracy_score(preds,val_y)\n",
    "accuracy_25 = accuracy_score(val_y, predicted)"
   ]
  },
  {
   "cell_type": "code",
   "execution_count": 57,
   "metadata": {},
   "outputs": [
    {
     "name": "stdout",
     "output_type": "stream",
     "text": [
      "Accuracy of model = 0.8641975308641975\n",
      "Accuracy of model with lowered threshold = 0.8047138047138047\n"
     ]
    }
   ],
   "source": [
    "print('Accuracy of model =',accuracy)\n",
    "print('Accuracy of model with lowered threshold =',accuracy_25)"
   ]
  },
  {
   "cell_type": "code",
   "execution_count": 58,
   "metadata": {},
   "outputs": [],
   "source": [
    "## Confusion Matrix function\n",
    "def plot_confusion_matrix(y_true, y_pred, classes, normalize=False, title=None, cmap=plt.cm.Blues):\n",
    "    \"\"\"\n",
    "    This function prints and plots the confusion matrix.\n",
    "    Normalization can be applied by setting `normalize=True`.\n",
    "    \"\"\"\n",
    "    if not title:\n",
    "        if normalize:\n",
    "            title = 'Normalized confusion matrix'\n",
    "        else:\n",
    "            title = 'Confusion matrix, without normalization'\n",
    "\n",
    "    # Compute confusion matrix\n",
    "    cm = confusion_matrix(y_true, y_pred)\n",
    "    # Only use the labels that appear in the data\n",
    "    #classes = classes[unique_labels(y_true, y_pred)]\n",
    "    if normalize:\n",
    "        cm = cm.astype('float') / cm.sum(axis=1)[:, np.newaxis]\n",
    "        print(\"Normalized confusion matrix\")\n",
    "    else:\n",
    "        print('Confusion matrix, without normalization')\n",
    "\n",
    "    print(cm)\n",
    "\n",
    "    fig, ax = plt.subplots()\n",
    "    im = ax.imshow(cm, interpolation='nearest', cmap=cmap)\n",
    "    ax.figure.colorbar(im, ax=ax)\n",
    "    # We want to show all ticks...\n",
    "    ax.set(xticks=np.arange(cm.shape[1]),\n",
    "           yticks=np.arange(cm.shape[0]),\n",
    "           # ... and label them with the respective list entries\n",
    "           xticklabels=classes, yticklabels=classes,\n",
    "           title=title,\n",
    "           ylabel='True label',\n",
    "           xlabel='Predicted label')\n",
    "\n",
    "    # Rotate the tick labels and set their alignment.\n",
    "    plt.setp(ax.get_xticklabels(), rotation=45, ha=\"right\",\n",
    "             rotation_mode=\"anchor\")\n",
    "\n",
    "    # Loop over data dimensions and create text annotations.\n",
    "    fmt = '.2f' if normalize else 'd'\n",
    "    thresh = cm.max() / 2.\n",
    "    for i in range(cm.shape[0]):\n",
    "        for j in range(cm.shape[1]):\n",
    "            ax.text(j, i, format(cm[i, j], fmt),\n",
    "                    ha=\"center\", va=\"center\",\n",
    "                    color=\"white\" if cm[i, j] > thresh else \"black\")\n",
    "    fig.tight_layout()\n",
    "    return ax"
   ]
  },
  {
   "cell_type": "markdown",
   "metadata": {},
   "source": [
    "We define two classes of people as 'No' ans 'Yes' with respect to whether they will make a purchase or not."
   ]
  },
  {
   "cell_type": "code",
   "execution_count": 59,
   "metadata": {},
   "outputs": [],
   "source": [
    "class_names = ['No','Yes']\n",
    "np.set_printoptions(precision=2)"
   ]
  },
  {
   "cell_type": "markdown",
   "metadata": {},
   "source": [
    "Confusion Matrix for the model"
   ]
  },
  {
   "cell_type": "code",
   "execution_count": 60,
   "metadata": {},
   "outputs": [
    {
     "name": "stdout",
     "output_type": "stream",
     "text": [
      "Confusion matrix, without normalization\n",
      "[[650  56]\n",
      " [ 65 120]]\n"
     ]
    },
    {
     "data": {
      "text/plain": [
       "<matplotlib.axes._subplots.AxesSubplot at 0x7f8602ed5f28>"
      ]
     },
     "execution_count": 60,
     "metadata": {},
     "output_type": "execute_result"
    },
    {
     "data": {
      "image/png": "[encoded data removed]",
      "text/plain": [
       "<Figure size 432x288 with 2 Axes>"
      ]
     },
     "metadata": {},
     "output_type": "display_data"
    }
   ],
   "source": [
    "plot_confusion_matrix(val_y, preds, classes=class_names, title='Confusion matrix, without normalization')"
   ]
  },
  {
   "cell_type": "markdown",
   "metadata": {},
   "source": [
    "Confusion matrix for the model with lowered threshold"
   ]
  },
  {
   "cell_type": "code",
   "execution_count": 61,
   "metadata": {},
   "outputs": [
    {
     "name": "stdout",
     "output_type": "stream",
     "text": [
      "Confusion matrix, without normalization\n",
      "[[582 124]\n",
      " [ 50 135]]\n"
     ]
    },
    {
     "data": {
      "text/plain": [
       "<matplotlib.axes._subplots.AxesSubplot at 0x7f8602c0da90>"
      ]
     },
     "execution_count": 61,
     "metadata": {},
     "output_type": "execute_result"
    },
    {
     "data": {
      "image/png": "[encoded data removed]",
      "text/plain": [
       "<Figure size 432x288 with 2 Axes>"
      ]
     },
     "metadata": {},
     "output_type": "display_data"
    }
   ],
   "source": [
    "plot_confusion_matrix(val_y, predicted, classes=class_names, title='Confusion matrix, without normalization')"
   ]
  },
  {
   "cell_type": "markdown",
   "metadata": {},
   "source": [
    "So while tuning the parameters we were able to reduce the False Negative values.\n",
    "Now to predict our possible customers we use the False Positives as a measure. These False Positives are the users whose leads are similar to a user who actually made a purchase. These False Positives are false as they havent made a purchase yet and were labelled as a 'No' by us."
   ]
  },
  {
   "cell_type": "code",
   "execution_count": 62,
   "metadata": {},
   "outputs": [
    {
     "name": "stdout",
     "output_type": "stream",
     "text": [
      "[1.22e-01 1.03e-01 7.20e-02 8.68e-02 6.77e-02 1.44e-02 7.79e-03 8.95e-04\n",
      " 1.21e-03 1.02e-05 8.84e-02 4.07e-02 1.70e-02 1.75e-02 1.84e-02 6.04e-02\n",
      " 2.63e-02 1.45e-02 1.24e-02 8.05e-03 8.15e-02 4.98e-02 3.58e-02 2.20e-02\n",
      " 3.08e-02]\n"
     ]
    }
   ],
   "source": [
    "print(model.feature_importances_)"
   ]
  },
  {
   "cell_type": "markdown",
   "metadata": {},
   "source": [
    "### Listing the predicted users"
   ]
  },
  {
   "cell_type": "code",
   "execution_count": 63,
   "metadata": {},
   "outputs": [],
   "source": [
    "actual = val_y\n",
    "answer = pd.DataFrame({'id':test_ids,'actual':actual,'predicted':predicted})"
   ]
  },
  {
   "cell_type": "code",
   "execution_count": 64,
   "metadata": {},
   "outputs": [],
   "source": [
    "False_positives =  answer[(answer['actual']==0)&(answer['predicted']==1)]"
   ]
  },
  {
   "cell_type": "code",
   "execution_count": 65,
   "metadata": {},
   "outputs": [
    {
     "data": {
      "text/html": [
       "<div>\n",
       "<style scoped>\n",
       "    .dataframe tbody tr th:only-of-type {\n",
       "        vertical-align: middle;\n",
       "    }\n",
       "\n",
       "    .dataframe tbody tr th {\n",
       "        vertical-align: top;\n",
       "    }\n",
       "\n",
       "    .dataframe thead th {\n",
       "        text-align: right;\n",
       "    }\n",
       "</style>\n",
       "<table border=\"1\" class=\"dataframe\">\n",
       "  <thead>\n",
       "    <tr style=\"text-align: right;\">\n",
       "      <th></th>\n",
       "      <th>id</th>\n",
       "      <th>actual</th>\n",
       "      <th>predicted</th>\n",
       "    </tr>\n",
       "  </thead>\n",
       "  <tbody>\n",
       "    <tr>\n",
       "      <th>1</th>\n",
       "      <td>8894e66d4a4e1570</td>\n",
       "      <td>0</td>\n",
       "      <td>1</td>\n",
       "    </tr>\n",
       "    <tr>\n",
       "      <th>5</th>\n",
       "      <td>65ed96144318941d</td>\n",
       "      <td>0</td>\n",
       "      <td>1</td>\n",
       "    </tr>\n",
       "    <tr>\n",
       "      <th>19</th>\n",
       "      <td>1ed623113e7a8e18</td>\n",
       "      <td>0</td>\n",
       "      <td>1</td>\n",
       "    </tr>\n",
       "    <tr>\n",
       "      <th>21</th>\n",
       "      <td>74afa2fe61be9b23</td>\n",
       "      <td>0</td>\n",
       "      <td>1</td>\n",
       "    </tr>\n",
       "    <tr>\n",
       "      <th>31</th>\n",
       "      <td>a830d935b485536d</td>\n",
       "      <td>0</td>\n",
       "      <td>1</td>\n",
       "    </tr>\n",
       "    <tr>\n",
       "      <th>38</th>\n",
       "      <td>f37b4f646772358a</td>\n",
       "      <td>0</td>\n",
       "      <td>1</td>\n",
       "    </tr>\n",
       "    <tr>\n",
       "      <th>40</th>\n",
       "      <td>548479fa8a7447de</td>\n",
       "      <td>0</td>\n",
       "      <td>1</td>\n",
       "    </tr>\n",
       "    <tr>\n",
       "      <th>58</th>\n",
       "      <td>5aaddac757c76494</td>\n",
       "      <td>0</td>\n",
       "      <td>1</td>\n",
       "    </tr>\n",
       "    <tr>\n",
       "      <th>65</th>\n",
       "      <td>2bd626d474f4f6e5</td>\n",
       "      <td>0</td>\n",
       "      <td>1</td>\n",
       "    </tr>\n",
       "    <tr>\n",
       "      <th>72</th>\n",
       "      <td>29e61645180704d0</td>\n",
       "      <td>0</td>\n",
       "      <td>1</td>\n",
       "    </tr>\n",
       "    <tr>\n",
       "      <th>73</th>\n",
       "      <td>fe1932e06f5c5991</td>\n",
       "      <td>0</td>\n",
       "      <td>1</td>\n",
       "    </tr>\n",
       "    <tr>\n",
       "      <th>75</th>\n",
       "      <td>f8d9ccbc8fffa265</td>\n",
       "      <td>0</td>\n",
       "      <td>1</td>\n",
       "    </tr>\n",
       "    <tr>\n",
       "      <th>78</th>\n",
       "      <td>f0a87e0a765cac4e</td>\n",
       "      <td>0</td>\n",
       "      <td>1</td>\n",
       "    </tr>\n",
       "    <tr>\n",
       "      <th>79</th>\n",
       "      <td>f373140b5c08a618</td>\n",
       "      <td>0</td>\n",
       "      <td>1</td>\n",
       "    </tr>\n",
       "    <tr>\n",
       "      <th>82</th>\n",
       "      <td>96cf2c577047feb9</td>\n",
       "      <td>0</td>\n",
       "      <td>1</td>\n",
       "    </tr>\n",
       "    <tr>\n",
       "      <th>84</th>\n",
       "      <td>c6c56db70c125a1e</td>\n",
       "      <td>0</td>\n",
       "      <td>1</td>\n",
       "    </tr>\n",
       "    <tr>\n",
       "      <th>88</th>\n",
       "      <td>1518d736140914c1</td>\n",
       "      <td>0</td>\n",
       "      <td>1</td>\n",
       "    </tr>\n",
       "    <tr>\n",
       "      <th>109</th>\n",
       "      <td>121f902c6ba27251</td>\n",
       "      <td>0</td>\n",
       "      <td>1</td>\n",
       "    </tr>\n",
       "    <tr>\n",
       "      <th>110</th>\n",
       "      <td>82ecafdcb675dffb</td>\n",
       "      <td>0</td>\n",
       "      <td>1</td>\n",
       "    </tr>\n",
       "    <tr>\n",
       "      <th>116</th>\n",
       "      <td>1d73f92fb8c143ca</td>\n",
       "      <td>0</td>\n",
       "      <td>1</td>\n",
       "    </tr>\n",
       "    <tr>\n",
       "      <th>122</th>\n",
       "      <td>bffcb2093d8540b9</td>\n",
       "      <td>0</td>\n",
       "      <td>1</td>\n",
       "    </tr>\n",
       "    <tr>\n",
       "      <th>137</th>\n",
       "      <td>769495386705357f</td>\n",
       "      <td>0</td>\n",
       "      <td>1</td>\n",
       "    </tr>\n",
       "    <tr>\n",
       "      <th>138</th>\n",
       "      <td>710b98eb071d6b17</td>\n",
       "      <td>0</td>\n",
       "      <td>1</td>\n",
       "    </tr>\n",
       "    <tr>\n",
       "      <th>143</th>\n",
       "      <td>28eb7cf59b4f06c4</td>\n",
       "      <td>0</td>\n",
       "      <td>1</td>\n",
       "    </tr>\n",
       "    <tr>\n",
       "      <th>153</th>\n",
       "      <td>14db27f824b391e2</td>\n",
       "      <td>0</td>\n",
       "      <td>1</td>\n",
       "    </tr>\n",
       "    <tr>\n",
       "      <th>155</th>\n",
       "      <td>57f1f71b5aae314c</td>\n",
       "      <td>0</td>\n",
       "      <td>1</td>\n",
       "    </tr>\n",
       "    <tr>\n",
       "      <th>191</th>\n",
       "      <td>0dc301696579e395</td>\n",
       "      <td>0</td>\n",
       "      <td>1</td>\n",
       "    </tr>\n",
       "    <tr>\n",
       "      <th>199</th>\n",
       "      <td>1d2c03e658950150</td>\n",
       "      <td>0</td>\n",
       "      <td>1</td>\n",
       "    </tr>\n",
       "    <tr>\n",
       "      <th>200</th>\n",
       "      <td>699eb1ebaf58e4f7</td>\n",
       "      <td>0</td>\n",
       "      <td>1</td>\n",
       "    </tr>\n",
       "    <tr>\n",
       "      <th>202</th>\n",
       "      <td>9da8f0e201c46fd0</td>\n",
       "      <td>0</td>\n",
       "      <td>1</td>\n",
       "    </tr>\n",
       "    <tr>\n",
       "      <th>...</th>\n",
       "      <td>...</td>\n",
       "      <td>...</td>\n",
       "      <td>...</td>\n",
       "    </tr>\n",
       "    <tr>\n",
       "      <th>673</th>\n",
       "      <td>b4cc6fe3985f51da</td>\n",
       "      <td>0</td>\n",
       "      <td>1</td>\n",
       "    </tr>\n",
       "    <tr>\n",
       "      <th>682</th>\n",
       "      <td>d671d98f091bc36c</td>\n",
       "      <td>0</td>\n",
       "      <td>1</td>\n",
       "    </tr>\n",
       "    <tr>\n",
       "      <th>683</th>\n",
       "      <td>306660f2c7a4ce41</td>\n",
       "      <td>0</td>\n",
       "      <td>1</td>\n",
       "    </tr>\n",
       "    <tr>\n",
       "      <th>699</th>\n",
       "      <td>191f0ec62cf03a2e</td>\n",
       "      <td>0</td>\n",
       "      <td>1</td>\n",
       "    </tr>\n",
       "    <tr>\n",
       "      <th>717</th>\n",
       "      <td>c88cb085a938d973</td>\n",
       "      <td>0</td>\n",
       "      <td>1</td>\n",
       "    </tr>\n",
       "    <tr>\n",
       "      <th>719</th>\n",
       "      <td>5cbfbb3589930be9</td>\n",
       "      <td>0</td>\n",
       "      <td>1</td>\n",
       "    </tr>\n",
       "    <tr>\n",
       "      <th>720</th>\n",
       "      <td>419d26a2b1275d51</td>\n",
       "      <td>0</td>\n",
       "      <td>1</td>\n",
       "    </tr>\n",
       "    <tr>\n",
       "      <th>724</th>\n",
       "      <td>b6de45ff9f49ae2b</td>\n",
       "      <td>0</td>\n",
       "      <td>1</td>\n",
       "    </tr>\n",
       "    <tr>\n",
       "      <th>731</th>\n",
       "      <td>5df283118fe1aaf0</td>\n",
       "      <td>0</td>\n",
       "      <td>1</td>\n",
       "    </tr>\n",
       "    <tr>\n",
       "      <th>734</th>\n",
       "      <td>35bb9740d5c78f6e</td>\n",
       "      <td>0</td>\n",
       "      <td>1</td>\n",
       "    </tr>\n",
       "    <tr>\n",
       "      <th>751</th>\n",
       "      <td>98945582a696e232</td>\n",
       "      <td>0</td>\n",
       "      <td>1</td>\n",
       "    </tr>\n",
       "    <tr>\n",
       "      <th>752</th>\n",
       "      <td>563763810b37aa51</td>\n",
       "      <td>0</td>\n",
       "      <td>1</td>\n",
       "    </tr>\n",
       "    <tr>\n",
       "      <th>762</th>\n",
       "      <td>e9256696749b7a28</td>\n",
       "      <td>0</td>\n",
       "      <td>1</td>\n",
       "    </tr>\n",
       "    <tr>\n",
       "      <th>763</th>\n",
       "      <td>14bac3f0e60ff23b</td>\n",
       "      <td>0</td>\n",
       "      <td>1</td>\n",
       "    </tr>\n",
       "    <tr>\n",
       "      <th>764</th>\n",
       "      <td>69f6416370a4f2ee</td>\n",
       "      <td>0</td>\n",
       "      <td>1</td>\n",
       "    </tr>\n",
       "    <tr>\n",
       "      <th>788</th>\n",
       "      <td>184eb3917854d53b</td>\n",
       "      <td>0</td>\n",
       "      <td>1</td>\n",
       "    </tr>\n",
       "    <tr>\n",
       "      <th>794</th>\n",
       "      <td>b4d65c490ee50603</td>\n",
       "      <td>0</td>\n",
       "      <td>1</td>\n",
       "    </tr>\n",
       "    <tr>\n",
       "      <th>796</th>\n",
       "      <td>0a236425894ec478</td>\n",
       "      <td>0</td>\n",
       "      <td>1</td>\n",
       "    </tr>\n",
       "    <tr>\n",
       "      <th>814</th>\n",
       "      <td>54b9936a60c89c8a</td>\n",
       "      <td>0</td>\n",
       "      <td>1</td>\n",
       "    </tr>\n",
       "    <tr>\n",
       "      <th>815</th>\n",
       "      <td>19e10de7fa826684</td>\n",
       "      <td>0</td>\n",
       "      <td>1</td>\n",
       "    </tr>\n",
       "    <tr>\n",
       "      <th>818</th>\n",
       "      <td>414ee3a82f3e87d8</td>\n",
       "      <td>0</td>\n",
       "      <td>1</td>\n",
       "    </tr>\n",
       "    <tr>\n",
       "      <th>820</th>\n",
       "      <td>3672c2443bc19069</td>\n",
       "      <td>0</td>\n",
       "      <td>1</td>\n",
       "    </tr>\n",
       "    <tr>\n",
       "      <th>830</th>\n",
       "      <td>42c9f8e31c4471ff</td>\n",
       "      <td>0</td>\n",
       "      <td>1</td>\n",
       "    </tr>\n",
       "    <tr>\n",
       "      <th>836</th>\n",
       "      <td>be837a0d779ab0f3</td>\n",
       "      <td>0</td>\n",
       "      <td>1</td>\n",
       "    </tr>\n",
       "    <tr>\n",
       "      <th>846</th>\n",
       "      <td>4bdaf32fdf5eb1d1</td>\n",
       "      <td>0</td>\n",
       "      <td>1</td>\n",
       "    </tr>\n",
       "    <tr>\n",
       "      <th>856</th>\n",
       "      <td>5d8b236bf83822ec</td>\n",
       "      <td>0</td>\n",
       "      <td>1</td>\n",
       "    </tr>\n",
       "    <tr>\n",
       "      <th>866</th>\n",
       "      <td>95aa3d982fe6b819</td>\n",
       "      <td>0</td>\n",
       "      <td>1</td>\n",
       "    </tr>\n",
       "    <tr>\n",
       "      <th>869</th>\n",
       "      <td>8f8bcacfc16f9a3b</td>\n",
       "      <td>0</td>\n",
       "      <td>1</td>\n",
       "    </tr>\n",
       "    <tr>\n",
       "      <th>872</th>\n",
       "      <td>5d386a9cd7c40594</td>\n",
       "      <td>0</td>\n",
       "      <td>1</td>\n",
       "    </tr>\n",
       "    <tr>\n",
       "      <th>883</th>\n",
       "      <td>1f851e60bb458036</td>\n",
       "      <td>0</td>\n",
       "      <td>1</td>\n",
       "    </tr>\n",
       "  </tbody>\n",
       "</table>\n",
       "<p>124 rows × 3 columns</p>\n",
       "</div>"
      ],
      "text/plain": [
       "                   id  actual  predicted\n",
       "1    8894e66d4a4e1570       0          1\n",
       "5    65ed96144318941d       0          1\n",
       "19   1ed623113e7a8e18       0          1\n",
       "21   74afa2fe61be9b23       0          1\n",
       "31   a830d935b485536d       0          1\n",
       "38   f37b4f646772358a       0          1\n",
       "40   548479fa8a7447de       0          1\n",
       "58   5aaddac757c76494       0          1\n",
       "65   2bd626d474f4f6e5       0          1\n",
       "72   29e61645180704d0       0          1\n",
       "73   fe1932e06f5c5991       0          1\n",
       "75   f8d9ccbc8fffa265       0          1\n",
       "78   f0a87e0a765cac4e       0          1\n",
       "79   f373140b5c08a618       0          1\n",
       "82   96cf2c577047feb9       0          1\n",
       "84   c6c56db70c125a1e       0          1\n",
       "88   1518d736140914c1       0          1\n",
       "109  121f902c6ba27251       0          1\n",
       "110  82ecafdcb675dffb       0          1\n",
       "116  1d73f92fb8c143ca       0          1\n",
       "122  bffcb2093d8540b9       0          1\n",
       "137  769495386705357f       0          1\n",
       "138  710b98eb071d6b17       0          1\n",
       "143  28eb7cf59b4f06c4       0          1\n",
       "153  14db27f824b391e2       0          1\n",
       "155  57f1f71b5aae314c       0          1\n",
       "191  0dc301696579e395       0          1\n",
       "199  1d2c03e658950150       0          1\n",
       "200  699eb1ebaf58e4f7       0          1\n",
       "202  9da8f0e201c46fd0       0          1\n",
       "..                ...     ...        ...\n",
       "673  b4cc6fe3985f51da       0          1\n",
       "682  d671d98f091bc36c       0          1\n",
       "683  306660f2c7a4ce41       0          1\n",
       "699  191f0ec62cf03a2e       0          1\n",
       "717  c88cb085a938d973       0          1\n",
       "719  5cbfbb3589930be9       0          1\n",
       "720  419d26a2b1275d51       0          1\n",
       "724  b6de45ff9f49ae2b       0          1\n",
       "731  5df283118fe1aaf0       0          1\n",
       "734  35bb9740d5c78f6e       0          1\n",
       "751  98945582a696e232       0          1\n",
       "752  563763810b37aa51       0          1\n",
       "762  e9256696749b7a28       0          1\n",
       "763  14bac3f0e60ff23b       0          1\n",
       "764  69f6416370a4f2ee       0          1\n",
       "788  184eb3917854d53b       0          1\n",
       "794  b4d65c490ee50603       0          1\n",
       "796  0a236425894ec478       0          1\n",
       "814  54b9936a60c89c8a       0          1\n",
       "815  19e10de7fa826684       0          1\n",
       "818  414ee3a82f3e87d8       0          1\n",
       "820  3672c2443bc19069       0          1\n",
       "830  42c9f8e31c4471ff       0          1\n",
       "836  be837a0d779ab0f3       0          1\n",
       "846  4bdaf32fdf5eb1d1       0          1\n",
       "856  5d8b236bf83822ec       0          1\n",
       "866  95aa3d982fe6b819       0          1\n",
       "869  8f8bcacfc16f9a3b       0          1\n",
       "872  5d386a9cd7c40594       0          1\n",
       "883  1f851e60bb458036       0          1\n",
       "\n",
       "[124 rows x 3 columns]"
      ]
     },
     "execution_count": 65,
     "metadata": {},
     "output_type": "execute_result"
    }
   ],
   "source": [
    "False_positives"
   ]
  }
 ],
 "metadata": {
  "kernelspec": {
   "display_name": "Python 3",
   "language": "python",
   "name": "python3"
  },
  "language_info": {
   "codemirror_mode": {
    "name": "ipython",
    "version": 3
   },
   "file_extension": ".py",
   "mimetype": "text/x-python",
   "name": "python",
   "nbconvert_exporter": "python",
   "pygments_lexer": "ipython3",
   "version": "3.6.5"
  }
 },
 "nbformat": 4,
 "nbformat_minor": 2
}
